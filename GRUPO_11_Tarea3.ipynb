{
 "cells": [
  {
   "cell_type": "markdown",
   "metadata": {},
   "source": [
    "PREGUNTA I."
   ]
  },
  {
   "cell_type": "code",
   "execution_count": 1,
   "metadata": {},
   "outputs": [],
   "source": [
    "import time"
   ]
  },
  {
   "cell_type": "code",
   "execution_count": 2,
   "metadata": {},
   "outputs": [
    {
     "name": "stdout",
     "output_type": "stream",
     "text": [
      "Requirement already satisfied: bcrp-webscrapper in c:\\users\\andre\\anaconda3\\lib\\site-packages (1.0.6)\n",
      "Requirement already satisfied: pandas in c:\\users\\andre\\anaconda3\\lib\\site-packages (from bcrp-webscrapper) (2.2.2)\n",
      "Requirement already satisfied: numpy in c:\\users\\andre\\anaconda3\\lib\\site-packages (from bcrp-webscrapper) (1.26.4)\n",
      "Requirement already satisfied: requests in c:\\users\\andre\\anaconda3\\lib\\site-packages (from bcrp-webscrapper) (2.32.2)\n",
      "Requirement already satisfied: unidecode in c:\\users\\andre\\anaconda3\\lib\\site-packages (from bcrp-webscrapper) (1.2.0)\n",
      "Requirement already satisfied: selenium in c:\\users\\andre\\anaconda3\\lib\\site-packages (from bcrp-webscrapper) (4.24.0)\n",
      "Requirement already satisfied: openpyxl in c:\\users\\andre\\anaconda3\\lib\\site-packages (from bcrp-webscrapper) (3.1.2)\n",
      "Requirement already satisfied: more-itertools in c:\\users\\andre\\anaconda3\\lib\\site-packages (from bcrp-webscrapper) (10.1.0)\n",
      "Requirement already satisfied: webdriver-manager in c:\\users\\andre\\anaconda3\\lib\\site-packages (from bcrp-webscrapper) (4.0.2)\n",
      "Requirement already satisfied: et-xmlfile in c:\\users\\andre\\anaconda3\\lib\\site-packages (from openpyxl->bcrp-webscrapper) (1.1.0)\n",
      "Requirement already satisfied: python-dateutil>=2.8.2 in c:\\users\\andre\\anaconda3\\lib\\site-packages (from pandas->bcrp-webscrapper) (2.9.0.post0)\n",
      "Requirement already satisfied: pytz>=2020.1 in c:\\users\\andre\\anaconda3\\lib\\site-packages (from pandas->bcrp-webscrapper) (2024.1)\n",
      "Requirement already satisfied: tzdata>=2022.7 in c:\\users\\andre\\anaconda3\\lib\\site-packages (from pandas->bcrp-webscrapper) (2023.3)\n",
      "Requirement already satisfied: charset-normalizer<4,>=2 in c:\\users\\andre\\anaconda3\\lib\\site-packages (from requests->bcrp-webscrapper) (2.0.4)\n",
      "Requirement already satisfied: idna<4,>=2.5 in c:\\users\\andre\\anaconda3\\lib\\site-packages (from requests->bcrp-webscrapper) (3.7)\n",
      "Requirement already satisfied: urllib3<3,>=1.21.1 in c:\\users\\andre\\anaconda3\\lib\\site-packages (from requests->bcrp-webscrapper) (2.2.2)\n",
      "Requirement already satisfied: certifi>=2017.4.17 in c:\\users\\andre\\anaconda3\\lib\\site-packages (from requests->bcrp-webscrapper) (2024.7.4)\n",
      "Requirement already satisfied: trio~=0.17 in c:\\users\\andre\\anaconda3\\lib\\site-packages (from selenium->bcrp-webscrapper) (0.26.2)\n",
      "Requirement already satisfied: trio-websocket~=0.9 in c:\\users\\andre\\anaconda3\\lib\\site-packages (from selenium->bcrp-webscrapper) (0.11.1)\n",
      "Requirement already satisfied: typing_extensions~=4.9 in c:\\users\\andre\\anaconda3\\lib\\site-packages (from selenium->bcrp-webscrapper) (4.11.0)\n",
      "Requirement already satisfied: websocket-client~=1.8 in c:\\users\\andre\\anaconda3\\lib\\site-packages (from selenium->bcrp-webscrapper) (1.8.0)\n",
      "Requirement already satisfied: python-dotenv in c:\\users\\andre\\anaconda3\\lib\\site-packages (from webdriver-manager->bcrp-webscrapper) (0.21.0)\n",
      "Requirement already satisfied: packaging in c:\\users\\andre\\anaconda3\\lib\\site-packages (from webdriver-manager->bcrp-webscrapper) (23.2)\n",
      "Requirement already satisfied: six>=1.5 in c:\\users\\andre\\anaconda3\\lib\\site-packages (from python-dateutil>=2.8.2->pandas->bcrp-webscrapper) (1.16.0)\n",
      "Requirement already satisfied: attrs>=23.2.0 in c:\\users\\andre\\anaconda3\\lib\\site-packages (from trio~=0.17->selenium->bcrp-webscrapper) (24.2.0)\n",
      "Requirement already satisfied: sortedcontainers in c:\\users\\andre\\anaconda3\\lib\\site-packages (from trio~=0.17->selenium->bcrp-webscrapper) (2.4.0)\n",
      "Requirement already satisfied: outcome in c:\\users\\andre\\anaconda3\\lib\\site-packages (from trio~=0.17->selenium->bcrp-webscrapper) (1.3.0.post0)\n",
      "Requirement already satisfied: sniffio>=1.3.0 in c:\\users\\andre\\anaconda3\\lib\\site-packages (from trio~=0.17->selenium->bcrp-webscrapper) (1.3.0)\n",
      "Requirement already satisfied: cffi>=1.14 in c:\\users\\andre\\anaconda3\\lib\\site-packages (from trio~=0.17->selenium->bcrp-webscrapper) (1.16.0)\n",
      "Requirement already satisfied: wsproto>=0.14 in c:\\users\\andre\\anaconda3\\lib\\site-packages (from trio-websocket~=0.9->selenium->bcrp-webscrapper) (1.2.0)\n",
      "Requirement already satisfied: pysocks!=1.5.7,<2.0,>=1.5.6 in c:\\users\\andre\\anaconda3\\lib\\site-packages (from urllib3[socks]<3,>=1.26->selenium->bcrp-webscrapper) (1.7.1)\n",
      "Requirement already satisfied: pycparser in c:\\users\\andre\\anaconda3\\lib\\site-packages (from cffi>=1.14->trio~=0.17->selenium->bcrp-webscrapper) (2.21)\n",
      "Requirement already satisfied: h11<1,>=0.9.0 in c:\\users\\andre\\anaconda3\\lib\\site-packages (from wsproto>=0.14->trio-websocket~=0.9->selenium->bcrp-webscrapper) (0.14.0)\n"
     ]
    }
   ],
   "source": [
    "!pip install bcrp-webscrapper"
   ]
  },
  {
   "cell_type": "code",
   "execution_count": 3,
   "metadata": {},
   "outputs": [
    {
     "name": "stdout",
     "output_type": "stream",
     "text": [
      "Name: bcrp_webscrapper\n",
      "Version: 1.0.6\n",
      "Summary: Time series extraction from the Peruvian Central Bank Database (BCRP Statistics)\n",
      "Home-page: https://github.com/estcab00/bcrp-webscrapper\n",
      "Author: Esteban Cabrera\n",
      "Author-email: \n",
      "License: \n",
      "Location: C:\\Users\\andre\\anaconda3\\Lib\\site-packages\n",
      "Requires: more-itertools, numpy, openpyxl, pandas, requests, selenium, unidecode, webdriver-manager\n",
      "Required-by: \n",
      "Files:\n",
      "  bcrp_webscrapper-1.0.6.dist-info\\INSTALLER\n",
      "  bcrp_webscrapper-1.0.6.dist-info\\LICENSE\n",
      "  bcrp_webscrapper-1.0.6.dist-info\\METADATA\n",
      "  bcrp_webscrapper-1.0.6.dist-info\\RECORD\n",
      "  bcrp_webscrapper-1.0.6.dist-info\\REQUESTED\n",
      "  bcrp_webscrapper-1.0.6.dist-info\\WHEEL\n",
      "  bcrp_webscrapper-1.0.6.dist-info\\top_level.txt\n",
      "  bcrp_webscrapper\\__init__.py\n",
      "  bcrp_webscrapper\\__pycache__\\__init__.cpython-312.pyc\n",
      "  bcrp_webscrapper\\__pycache__\\bcrp.cpython-312.pyc\n",
      "  bcrp_webscrapper\\bcrp.py\n"
     ]
    }
   ],
   "source": [
    "!pip show -f bcrp_webscrapper"
   ]
  },
  {
   "cell_type": "code",
   "execution_count": 4,
   "metadata": {},
   "outputs": [],
   "source": [
    "from bcrp_webscrapper import *"
   ]
  },
  {
   "cell_type": "code",
   "execution_count": 5,
   "metadata": {},
   "outputs": [
    {
     "name": "stdout",
     "output_type": "stream",
     "text": [
      "['ActionChains', 'By', 'ChromeDriverManager', 'EC', 'IFrame', 'Keys', 'Options', 'SVG', 'Select', 'Service', 'StringIO', 'WebDriverWait', 'Workbook', '__builtins__', '__cached__', '__doc__', '__file__', '__loader__', '__name__', '__package__', '__spec__', 'bcrp_dataframe', 'bcrp_graph', 'bcrp_scrapper', 'bcrp_search', 'display', 'download_graph', 'itertools', 'json', 'json_normalize', 'np', 'os', 'pd', 'random', 're', 'requests', 'scrapper_anual', 'scrapper_diario', 'scrapper_mensual', 'scrapper_trimestral', 'sleep', 'time', 'unidecode', 'urllib', 'webdriver']\n"
     ]
    }
   ],
   "source": [
    "from bcrp_webscrapper import bcrp\n",
    "print(dir(bcrp))"
   ]
  },
  {
   "cell_type": "code",
   "execution_count": 6,
   "metadata": {},
   "outputs": [
    {
     "data": {
      "text/html": [
       "<div>\n",
       "<style scoped>\n",
       "    .dataframe tbody tr th:only-of-type {\n",
       "        vertical-align: middle;\n",
       "    }\n",
       "\n",
       "    .dataframe tbody tr th {\n",
       "        vertical-align: top;\n",
       "    }\n",
       "\n",
       "    .dataframe thead th {\n",
       "        text-align: right;\n",
       "    }\n",
       "</style>\n",
       "<table border=\"1\" class=\"dataframe\">\n",
       "  <thead>\n",
       "    <tr style=\"text-align: right;\">\n",
       "      <th></th>\n",
       "      <th>Código</th>\n",
       "      <th>Descripción</th>\n",
       "      <th>Frecuencia</th>\n",
       "    </tr>\n",
       "  </thead>\n",
       "  <tbody>\n",
       "    <tr>\n",
       "      <th>0</th>\n",
       "      <td>PN39209BQ</td>\n",
       "      <td>Importaciones según uso o destino económico - ...</td>\n",
       "      <td>Trimestral</td>\n",
       "    </tr>\n",
       "    <tr>\n",
       "      <th>1</th>\n",
       "      <td>PN39208BQ</td>\n",
       "      <td>Importaciones según uso o destino económico - ...</td>\n",
       "      <td>Trimestral</td>\n",
       "    </tr>\n",
       "    <tr>\n",
       "      <th>2</th>\n",
       "      <td>PN39207BQ</td>\n",
       "      <td>Importaciones según uso o destino económico - ...</td>\n",
       "      <td>Trimestral</td>\n",
       "    </tr>\n",
       "    <tr>\n",
       "      <th>3</th>\n",
       "      <td>PN39035BQ</td>\n",
       "      <td>Balanza comercial - valores FOB (millones US$)...</td>\n",
       "      <td>Trimestral</td>\n",
       "    </tr>\n",
       "    <tr>\n",
       "      <th>32</th>\n",
       "      <td>PN03263FQ</td>\n",
       "      <td>Ingresos corrientes del gobierno general (porc...</td>\n",
       "      <td>Trimestral</td>\n",
       "    </tr>\n",
       "    <tr>\n",
       "      <th>33</th>\n",
       "      <td>PN03262FQ</td>\n",
       "      <td>Ingresos corrientes del gobierno general (porc...</td>\n",
       "      <td>Trimestral</td>\n",
       "    </tr>\n",
       "    <tr>\n",
       "      <th>34</th>\n",
       "      <td>PN03261FQ</td>\n",
       "      <td>Ingresos corrientes del gobierno general (porc...</td>\n",
       "      <td>Trimestral</td>\n",
       "    </tr>\n",
       "    <tr>\n",
       "      <th>35</th>\n",
       "      <td>PN03227FQ</td>\n",
       "      <td>Ingresos corrientes del gobierno general (mill...</td>\n",
       "      <td>Trimestral</td>\n",
       "    </tr>\n",
       "    <tr>\n",
       "      <th>36</th>\n",
       "      <td>PN03226FQ</td>\n",
       "      <td>Ingresos corrientes del gobierno general (mill...</td>\n",
       "      <td>Trimestral</td>\n",
       "    </tr>\n",
       "    <tr>\n",
       "      <th>37</th>\n",
       "      <td>PN03225FQ</td>\n",
       "      <td>Ingresos corrientes del gobierno general (mill...</td>\n",
       "      <td>Trimestral</td>\n",
       "    </tr>\n",
       "    <tr>\n",
       "      <th>38</th>\n",
       "      <td>PN02815BQ</td>\n",
       "      <td>Importaciones según uso o destino económico - ...</td>\n",
       "      <td>Trimestral</td>\n",
       "    </tr>\n",
       "    <tr>\n",
       "      <th>39</th>\n",
       "      <td>PN02814BQ</td>\n",
       "      <td>Importaciones según uso o destino económico - ...</td>\n",
       "      <td>Trimestral</td>\n",
       "    </tr>\n",
       "    <tr>\n",
       "      <th>40</th>\n",
       "      <td>PN02813BQ</td>\n",
       "      <td>Importaciones según uso o destino económico - ...</td>\n",
       "      <td>Trimestral</td>\n",
       "    </tr>\n",
       "    <tr>\n",
       "      <th>41</th>\n",
       "      <td>PN02641BQ</td>\n",
       "      <td>Balanza comercial - valores FOB (millones US$)...</td>\n",
       "      <td>Trimestral</td>\n",
       "    </tr>\n",
       "    <tr>\n",
       "      <th>42</th>\n",
       "      <td>PN02553AQ</td>\n",
       "      <td>Producto bruto interno por tipo de gasto (porc...</td>\n",
       "      <td>Trimestral</td>\n",
       "    </tr>\n",
       "    <tr>\n",
       "      <th>43</th>\n",
       "      <td>PN02552AQ</td>\n",
       "      <td>Producto bruto interno por tipo de gasto (porc...</td>\n",
       "      <td>Trimestral</td>\n",
       "    </tr>\n",
       "    <tr>\n",
       "      <th>44</th>\n",
       "      <td>PN02542AQ</td>\n",
       "      <td>Producto bruto interno por tipo de gasto (mill...</td>\n",
       "      <td>Trimestral</td>\n",
       "    </tr>\n",
       "    <tr>\n",
       "      <th>45</th>\n",
       "      <td>PN02541AQ</td>\n",
       "      <td>Producto bruto interno por tipo de gasto (mill...</td>\n",
       "      <td>Trimestral</td>\n",
       "    </tr>\n",
       "    <tr>\n",
       "      <th>46</th>\n",
       "      <td>PN02530AQ</td>\n",
       "      <td>Producto bruto interno por tipo de gasto (mill...</td>\n",
       "      <td>Trimestral</td>\n",
       "    </tr>\n",
       "    <tr>\n",
       "      <th>47</th>\n",
       "      <td>PN02529AQ</td>\n",
       "      <td>Producto bruto interno por tipo de gasto (mill...</td>\n",
       "      <td>Trimestral</td>\n",
       "    </tr>\n",
       "    <tr>\n",
       "      <th>48</th>\n",
       "      <td>PN02519AQ</td>\n",
       "      <td>Producto bruto interno por tipo de gasto (vari...</td>\n",
       "      <td>Trimestral</td>\n",
       "    </tr>\n",
       "    <tr>\n",
       "      <th>49</th>\n",
       "      <td>PN02518AQ</td>\n",
       "      <td>Producto bruto interno por tipo de gasto (vari...</td>\n",
       "      <td>Trimestral</td>\n",
       "    </tr>\n",
       "  </tbody>\n",
       "</table>\n",
       "</div>"
      ],
      "text/plain": [
       "       Código                                        Descripción  Frecuencia\n",
       "0   PN39209BQ  Importaciones según uso o destino económico - ...  Trimestral\n",
       "1   PN39208BQ  Importaciones según uso o destino económico - ...  Trimestral\n",
       "2   PN39207BQ  Importaciones según uso o destino económico - ...  Trimestral\n",
       "3   PN39035BQ  Balanza comercial - valores FOB (millones US$)...  Trimestral\n",
       "32  PN03263FQ  Ingresos corrientes del gobierno general (porc...  Trimestral\n",
       "33  PN03262FQ  Ingresos corrientes del gobierno general (porc...  Trimestral\n",
       "34  PN03261FQ  Ingresos corrientes del gobierno general (porc...  Trimestral\n",
       "35  PN03227FQ  Ingresos corrientes del gobierno general (mill...  Trimestral\n",
       "36  PN03226FQ  Ingresos corrientes del gobierno general (mill...  Trimestral\n",
       "37  PN03225FQ  Ingresos corrientes del gobierno general (mill...  Trimestral\n",
       "38  PN02815BQ  Importaciones según uso o destino económico - ...  Trimestral\n",
       "39  PN02814BQ  Importaciones según uso o destino económico - ...  Trimestral\n",
       "40  PN02813BQ  Importaciones según uso o destino económico - ...  Trimestral\n",
       "41  PN02641BQ  Balanza comercial - valores FOB (millones US$)...  Trimestral\n",
       "42  PN02553AQ  Producto bruto interno por tipo de gasto (porc...  Trimestral\n",
       "43  PN02552AQ  Producto bruto interno por tipo de gasto (porc...  Trimestral\n",
       "44  PN02542AQ  Producto bruto interno por tipo de gasto (mill...  Trimestral\n",
       "45  PN02541AQ  Producto bruto interno por tipo de gasto (mill...  Trimestral\n",
       "46  PN02530AQ  Producto bruto interno por tipo de gasto (mill...  Trimestral\n",
       "47  PN02529AQ  Producto bruto interno por tipo de gasto (mill...  Trimestral\n",
       "48  PN02519AQ  Producto bruto interno por tipo de gasto (vari...  Trimestral\n",
       "49  PN02518AQ  Producto bruto interno por tipo de gasto (vari...  Trimestral"
      ]
     },
     "execution_count": 6,
     "metadata": {},
     "output_type": "execute_result"
    }
   ],
   "source": [
    "bcrp.bcrp_search(\"Consumo\", \"Trimestral\")"
   ]
  },
  {
   "cell_type": "code",
   "execution_count": 7,
   "metadata": {},
   "outputs": [
    {
     "data": {
      "text/html": [
       "<div>\n",
       "<style scoped>\n",
       "    .dataframe tbody tr th:only-of-type {\n",
       "        vertical-align: middle;\n",
       "    }\n",
       "\n",
       "    .dataframe tbody tr th {\n",
       "        vertical-align: top;\n",
       "    }\n",
       "\n",
       "    .dataframe thead th {\n",
       "        text-align: right;\n",
       "    }\n",
       "</style>\n",
       "<table border=\"1\" class=\"dataframe\">\n",
       "  <thead>\n",
       "    <tr style=\"text-align: right;\">\n",
       "      <th></th>\n",
       "      <th>Código</th>\n",
       "      <th>Descripción</th>\n",
       "      <th>Frecuencia</th>\n",
       "    </tr>\n",
       "  </thead>\n",
       "  <tbody>\n",
       "    <tr>\n",
       "      <th>79</th>\n",
       "      <td>RD15481DQ</td>\n",
       "      <td>Inversión bruta fija de los gobiernos regional...</td>\n",
       "      <td>Trimestral</td>\n",
       "    </tr>\n",
       "    <tr>\n",
       "      <th>80</th>\n",
       "      <td>RD15480DQ</td>\n",
       "      <td>Inversión bruta fija de los gobiernos regional...</td>\n",
       "      <td>Trimestral</td>\n",
       "    </tr>\n",
       "    <tr>\n",
       "      <th>81</th>\n",
       "      <td>RD15479DQ</td>\n",
       "      <td>Inversión bruta fija de los gobiernos regional...</td>\n",
       "      <td>Trimestral</td>\n",
       "    </tr>\n",
       "    <tr>\n",
       "      <th>82</th>\n",
       "      <td>RD15478DQ</td>\n",
       "      <td>Inversión bruta fija de los gobiernos regional...</td>\n",
       "      <td>Trimestral</td>\n",
       "    </tr>\n",
       "    <tr>\n",
       "      <th>83</th>\n",
       "      <td>RD15477DQ</td>\n",
       "      <td>Inversión bruta fija de los gobiernos regional...</td>\n",
       "      <td>Trimestral</td>\n",
       "    </tr>\n",
       "    <tr>\n",
       "      <th>...</th>\n",
       "      <td>...</td>\n",
       "      <td>...</td>\n",
       "      <td>...</td>\n",
       "    </tr>\n",
       "    <tr>\n",
       "      <th>300</th>\n",
       "      <td>PN02440FQ</td>\n",
       "      <td>Flujos macroeconómicos (porcentaje del PBI) - ...</td>\n",
       "      <td>Trimestral</td>\n",
       "    </tr>\n",
       "    <tr>\n",
       "      <th>301</th>\n",
       "      <td>PN02439FQ</td>\n",
       "      <td>Flujos macroeconómicos (porcentaje del PBI) - ...</td>\n",
       "      <td>Trimestral</td>\n",
       "    </tr>\n",
       "    <tr>\n",
       "      <th>302</th>\n",
       "      <td>PN02438FQ</td>\n",
       "      <td>Flujos macroeconómicos (porcentaje del PBI) - ...</td>\n",
       "      <td>Trimestral</td>\n",
       "    </tr>\n",
       "    <tr>\n",
       "      <th>303</th>\n",
       "      <td>PN02437FQ</td>\n",
       "      <td>Flujos macroeconómicos (porcentaje del PBI) - ...</td>\n",
       "      <td>Trimestral</td>\n",
       "    </tr>\n",
       "    <tr>\n",
       "      <th>304</th>\n",
       "      <td>PN02436FQ</td>\n",
       "      <td>Flujos macroeconómicos (porcentaje del PBI) - ...</td>\n",
       "      <td>Trimestral</td>\n",
       "    </tr>\n",
       "  </tbody>\n",
       "</table>\n",
       "<p>147 rows × 3 columns</p>\n",
       "</div>"
      ],
      "text/plain": [
       "        Código                                        Descripción  Frecuencia\n",
       "79   RD15481DQ  Inversión bruta fija de los gobiernos regional...  Trimestral\n",
       "80   RD15480DQ  Inversión bruta fija de los gobiernos regional...  Trimestral\n",
       "81   RD15479DQ  Inversión bruta fija de los gobiernos regional...  Trimestral\n",
       "82   RD15478DQ  Inversión bruta fija de los gobiernos regional...  Trimestral\n",
       "83   RD15477DQ  Inversión bruta fija de los gobiernos regional...  Trimestral\n",
       "..         ...                                                ...         ...\n",
       "300  PN02440FQ  Flujos macroeconómicos (porcentaje del PBI) - ...  Trimestral\n",
       "301  PN02439FQ  Flujos macroeconómicos (porcentaje del PBI) - ...  Trimestral\n",
       "302  PN02438FQ  Flujos macroeconómicos (porcentaje del PBI) - ...  Trimestral\n",
       "303  PN02437FQ  Flujos macroeconómicos (porcentaje del PBI) - ...  Trimestral\n",
       "304  PN02436FQ  Flujos macroeconómicos (porcentaje del PBI) - ...  Trimestral\n",
       "\n",
       "[147 rows x 3 columns]"
      ]
     },
     "execution_count": 7,
     "metadata": {},
     "output_type": "execute_result"
    }
   ],
   "source": [
    "bcrp.bcrp_search(\"Inversion\", \"Trimestral\")"
   ]
  },
  {
   "cell_type": "markdown",
   "metadata": {},
   "source": [
    "PREGUNTA II."
   ]
  },
  {
   "cell_type": "code",
   "execution_count": 8,
   "metadata": {},
   "outputs": [
    {
     "name": "stdout",
     "output_type": "stream",
     "text": [
      "Requirement already satisfied: pandas in c:\\users\\andre\\anaconda3\\lib\\site-packages (2.2.2)\n",
      "Requirement already satisfied: numpy>=1.26.0 in c:\\users\\andre\\anaconda3\\lib\\site-packages (from pandas) (1.26.4)\n",
      "Requirement already satisfied: python-dateutil>=2.8.2 in c:\\users\\andre\\anaconda3\\lib\\site-packages (from pandas) (2.9.0.post0)\n",
      "Requirement already satisfied: pytz>=2020.1 in c:\\users\\andre\\anaconda3\\lib\\site-packages (from pandas) (2024.1)\n",
      "Requirement already satisfied: tzdata>=2022.7 in c:\\users\\andre\\anaconda3\\lib\\site-packages (from pandas) (2023.3)\n",
      "Requirement already satisfied: six>=1.5 in c:\\users\\andre\\anaconda3\\lib\\site-packages (from python-dateutil>=2.8.2->pandas) (1.16.0)\n"
     ]
    }
   ],
   "source": [
    "!pip install pandas"
   ]
  },
  {
   "cell_type": "code",
   "execution_count": 9,
   "metadata": {},
   "outputs": [],
   "source": [
    "import pandas as pd"
   ]
  },
  {
   "cell_type": "code",
   "execution_count": 10,
   "metadata": {},
   "outputs": [
    {
     "data": {
      "text/html": [
       "<div>\n",
       "<style scoped>\n",
       "    .dataframe tbody tr th:only-of-type {\n",
       "        vertical-align: middle;\n",
       "    }\n",
       "\n",
       "    .dataframe tbody tr th {\n",
       "        vertical-align: top;\n",
       "    }\n",
       "\n",
       "    .dataframe thead th {\n",
       "        text-align: right;\n",
       "    }\n",
       "</style>\n",
       "<table border=\"1\" class=\"dataframe\">\n",
       "  <thead>\n",
       "    <tr style=\"text-align: right;\">\n",
       "      <th></th>\n",
       "      <th>Producto bruto interno por tipo de gasto (millones S/ 2007) - Demanda Interna</th>\n",
       "      <th>Producto bruto interno por tipo de gasto (millones S/ 2007) - Demanda Interna - Consumo Privado</th>\n",
       "      <th>Producto bruto interno por tipo de gasto (millones S/ 2007) - Demanda Interna - Consumo Público</th>\n",
       "      <th>Producto bruto interno por tipo de gasto (millones S/ 2007) - Demanda Interna - Inversión Bruta Interna - Inversión Bruta Fija - Privada</th>\n",
       "    </tr>\n",
       "    <tr>\n",
       "      <th>Fecha</th>\n",
       "      <th></th>\n",
       "      <th></th>\n",
       "      <th></th>\n",
       "      <th></th>\n",
       "    </tr>\n",
       "  </thead>\n",
       "  <tbody>\n",
       "    <tr>\n",
       "      <th>2002-03-01</th>\n",
       "      <td>50591</td>\n",
       "      <td>37166</td>\n",
       "      <td>5558</td>\n",
       "      <td>6669</td>\n",
       "    </tr>\n",
       "    <tr>\n",
       "      <th>2002-06-01</th>\n",
       "      <td>56029</td>\n",
       "      <td>37694</td>\n",
       "      <td>6165</td>\n",
       "      <td>6730</td>\n",
       "    </tr>\n",
       "    <tr>\n",
       "      <th>2002-09-01</th>\n",
       "      <td>51403</td>\n",
       "      <td>38481</td>\n",
       "      <td>6562</td>\n",
       "      <td>7277</td>\n",
       "    </tr>\n",
       "    <tr>\n",
       "      <th>2002-12-01</th>\n",
       "      <td>54404</td>\n",
       "      <td>38332</td>\n",
       "      <td>6955</td>\n",
       "      <td>7469</td>\n",
       "    </tr>\n",
       "    <tr>\n",
       "      <th>2003-03-01</th>\n",
       "      <td>53148</td>\n",
       "      <td>37521</td>\n",
       "      <td>5884</td>\n",
       "      <td>7264</td>\n",
       "    </tr>\n",
       "  </tbody>\n",
       "</table>\n",
       "</div>"
      ],
      "text/plain": [
       "            Producto bruto interno por tipo de gasto (millones S/ 2007) - Demanda Interna  \\\n",
       "Fecha                                                                                       \n",
       "2002-03-01                                              50591                               \n",
       "2002-06-01                                              56029                               \n",
       "2002-09-01                                              51403                               \n",
       "2002-12-01                                              54404                               \n",
       "2003-03-01                                              53148                               \n",
       "\n",
       "            Producto bruto interno por tipo de gasto (millones S/ 2007) - Demanda Interna - Consumo Privado  \\\n",
       "Fecha                                                                                                         \n",
       "2002-03-01                                              37166                                                 \n",
       "2002-06-01                                              37694                                                 \n",
       "2002-09-01                                              38481                                                 \n",
       "2002-12-01                                              38332                                                 \n",
       "2003-03-01                                              37521                                                 \n",
       "\n",
       "            Producto bruto interno por tipo de gasto (millones S/ 2007) - Demanda Interna - Consumo Público  \\\n",
       "Fecha                                                                                                         \n",
       "2002-03-01                                               5558                                                 \n",
       "2002-06-01                                               6165                                                 \n",
       "2002-09-01                                               6562                                                 \n",
       "2002-12-01                                               6955                                                 \n",
       "2003-03-01                                               5884                                                 \n",
       "\n",
       "            Producto bruto interno por tipo de gasto (millones S/ 2007) - Demanda Interna - Inversión Bruta Interna - Inversión Bruta Fija - Privada  \n",
       "Fecha                                                                                                                                                 \n",
       "2002-03-01                                               6669                                                                                         \n",
       "2002-06-01                                               6730                                                                                         \n",
       "2002-09-01                                               7277                                                                                         \n",
       "2002-12-01                                               7469                                                                                         \n",
       "2003-03-01                                               7264                                                                                         "
      ]
     },
     "execution_count": 10,
     "metadata": {},
     "output_type": "execute_result"
    }
   ],
   "source": [
    "bcrp.bcrp_scrapper( ['PN02528AQ', 'PN02529AQ', 'PN02533AQ', 'PN02530AQ'] , '2002-01-01' , '2019-12-31' , 'Trimestral' ).head()"
   ]
  },
  {
   "cell_type": "code",
   "execution_count": 11,
   "metadata": {},
   "outputs": [],
   "source": [
    "series     = ['PN02528AQ', 'PN02529AQ', 'PN02533AQ', 'PN02530AQ']\n",
    "start_date = '2002-01'\n",
    "end_date   = '2019-12'\n",
    "freq       = 'Trimestral'"
   ]
  },
  {
   "cell_type": "code",
   "execution_count": 12,
   "metadata": {},
   "outputs": [
    {
     "data": {
      "text/html": [
       "<div>\n",
       "<style scoped>\n",
       "    .dataframe tbody tr th:only-of-type {\n",
       "        vertical-align: middle;\n",
       "    }\n",
       "\n",
       "    .dataframe tbody tr th {\n",
       "        vertical-align: top;\n",
       "    }\n",
       "\n",
       "    .dataframe thead th {\n",
       "        text-align: right;\n",
       "    }\n",
       "</style>\n",
       "<table border=\"1\" class=\"dataframe\">\n",
       "  <thead>\n",
       "    <tr style=\"text-align: right;\">\n",
       "      <th></th>\n",
       "      <th>Producto bruto interno por tipo de gasto (millones S/ 2007) - Demanda Interna</th>\n",
       "      <th>Producto bruto interno por tipo de gasto (millones S/ 2007) - Demanda Interna - Consumo Privado</th>\n",
       "      <th>Producto bruto interno por tipo de gasto (millones S/ 2007) - Demanda Interna - Inversión Bruta Interna - Inversión Bruta Fija - Privada</th>\n",
       "      <th>Producto bruto interno por tipo de gasto (millones S/ 2007) - Demanda Interna - Consumo Público</th>\n",
       "    </tr>\n",
       "    <tr>\n",
       "      <th>Fecha</th>\n",
       "      <th></th>\n",
       "      <th></th>\n",
       "      <th></th>\n",
       "      <th></th>\n",
       "    </tr>\n",
       "  </thead>\n",
       "  <tbody>\n",
       "    <tr>\n",
       "      <th>2002-03-01</th>\n",
       "      <td>50591.247260</td>\n",
       "      <td>37166.146390</td>\n",
       "      <td>6669.326452</td>\n",
       "      <td>5558.244971</td>\n",
       "    </tr>\n",
       "    <tr>\n",
       "      <th>2002-06-01</th>\n",
       "      <td>56029.467831</td>\n",
       "      <td>37694.374564</td>\n",
       "      <td>6729.810360</td>\n",
       "      <td>6165.224607</td>\n",
       "    </tr>\n",
       "    <tr>\n",
       "      <th>2002-09-01</th>\n",
       "      <td>51402.886732</td>\n",
       "      <td>38481.146673</td>\n",
       "      <td>7277.015085</td>\n",
       "      <td>6561.996649</td>\n",
       "    </tr>\n",
       "    <tr>\n",
       "      <th>2002-12-01</th>\n",
       "      <td>54403.921935</td>\n",
       "      <td>38332.332373</td>\n",
       "      <td>7468.848103</td>\n",
       "      <td>6954.533773</td>\n",
       "    </tr>\n",
       "    <tr>\n",
       "      <th>2003-03-01</th>\n",
       "      <td>53147.807578</td>\n",
       "      <td>37520.546837</td>\n",
       "      <td>7263.930443</td>\n",
       "      <td>5883.623782</td>\n",
       "    </tr>\n",
       "  </tbody>\n",
       "</table>\n",
       "</div>"
      ],
      "text/plain": [
       "            Producto bruto interno por tipo de gasto (millones S/ 2007) - Demanda Interna  \\\n",
       "Fecha                                                                                       \n",
       "2002-03-01                                       50591.247260                               \n",
       "2002-06-01                                       56029.467831                               \n",
       "2002-09-01                                       51402.886732                               \n",
       "2002-12-01                                       54403.921935                               \n",
       "2003-03-01                                       53147.807578                               \n",
       "\n",
       "            Producto bruto interno por tipo de gasto (millones S/ 2007) - Demanda Interna - Consumo Privado  \\\n",
       "Fecha                                                                                                         \n",
       "2002-03-01                                       37166.146390                                                 \n",
       "2002-06-01                                       37694.374564                                                 \n",
       "2002-09-01                                       38481.146673                                                 \n",
       "2002-12-01                                       38332.332373                                                 \n",
       "2003-03-01                                       37520.546837                                                 \n",
       "\n",
       "            Producto bruto interno por tipo de gasto (millones S/ 2007) - Demanda Interna - Inversión Bruta Interna - Inversión Bruta Fija - Privada  \\\n",
       "Fecha                                                                                                                                                  \n",
       "2002-03-01                                        6669.326452                                                                                          \n",
       "2002-06-01                                        6729.810360                                                                                          \n",
       "2002-09-01                                        7277.015085                                                                                          \n",
       "2002-12-01                                        7468.848103                                                                                          \n",
       "2003-03-01                                        7263.930443                                                                                          \n",
       "\n",
       "            Producto bruto interno por tipo de gasto (millones S/ 2007) - Demanda Interna - Consumo Público  \n",
       "Fecha                                                                                                        \n",
       "2002-03-01                                        5558.244971                                                \n",
       "2002-06-01                                        6165.224607                                                \n",
       "2002-09-01                                        6561.996649                                                \n",
       "2002-12-01                                        6954.533773                                                \n",
       "2003-03-01                                        5883.623782                                                "
      ]
     },
     "execution_count": 12,
     "metadata": {},
     "output_type": "execute_result"
    }
   ],
   "source": [
    "df_1 = bcrp.bcrp_dataframe( series , start_date , end_date , freq )\n",
    "df_1.head()"
   ]
  },
  {
   "cell_type": "markdown",
   "metadata": {},
   "source": [
    "PREGUNTA III."
   ]
  },
  {
   "cell_type": "code",
   "execution_count": 13,
   "metadata": {},
   "outputs": [
    {
     "name": "stdout",
     "output_type": "stream",
     "text": [
      "Requirement already satisfied: pandas in c:\\users\\andre\\anaconda3\\lib\\site-packages (2.2.2)\n",
      "Requirement already satisfied: numpy>=1.26.0 in c:\\users\\andre\\anaconda3\\lib\\site-packages (from pandas) (1.26.4)\n",
      "Requirement already satisfied: python-dateutil>=2.8.2 in c:\\users\\andre\\anaconda3\\lib\\site-packages (from pandas) (2.9.0.post0)\n",
      "Requirement already satisfied: pytz>=2020.1 in c:\\users\\andre\\anaconda3\\lib\\site-packages (from pandas) (2024.1)\n",
      "Requirement already satisfied: tzdata>=2022.7 in c:\\users\\andre\\anaconda3\\lib\\site-packages (from pandas) (2023.3)\n",
      "Requirement already satisfied: six>=1.5 in c:\\users\\andre\\anaconda3\\lib\\site-packages (from python-dateutil>=2.8.2->pandas) (1.16.0)\n"
     ]
    }
   ],
   "source": [
    "!pip install pandas"
   ]
  },
  {
   "cell_type": "code",
   "execution_count": 14,
   "metadata": {},
   "outputs": [
    {
     "name": "stdout",
     "output_type": "stream",
     "text": [
      "Requirement already satisfied: numpy in c:\\users\\andre\\anaconda3\\lib\\site-packages (1.26.4)\n"
     ]
    }
   ],
   "source": [
    "!pip install numpy"
   ]
  },
  {
   "cell_type": "code",
   "execution_count": 15,
   "metadata": {},
   "outputs": [
    {
     "name": "stdout",
     "output_type": "stream",
     "text": [
      "Requirement already satisfied: statsmodels in c:\\users\\andre\\anaconda3\\lib\\site-packages (0.14.2)\n",
      "Requirement already satisfied: numpy>=1.22.3 in c:\\users\\andre\\anaconda3\\lib\\site-packages (from statsmodels) (1.26.4)\n",
      "Requirement already satisfied: scipy!=1.9.2,>=1.8 in c:\\users\\andre\\anaconda3\\lib\\site-packages (from statsmodels) (1.13.1)\n",
      "Requirement already satisfied: pandas!=2.1.0,>=1.4 in c:\\users\\andre\\anaconda3\\lib\\site-packages (from statsmodels) (2.2.2)\n",
      "Requirement already satisfied: patsy>=0.5.6 in c:\\users\\andre\\anaconda3\\lib\\site-packages (from statsmodels) (0.5.6)\n",
      "Requirement already satisfied: packaging>=21.3 in c:\\users\\andre\\anaconda3\\lib\\site-packages (from statsmodels) (23.2)\n",
      "Requirement already satisfied: python-dateutil>=2.8.2 in c:\\users\\andre\\anaconda3\\lib\\site-packages (from pandas!=2.1.0,>=1.4->statsmodels) (2.9.0.post0)\n",
      "Requirement already satisfied: pytz>=2020.1 in c:\\users\\andre\\anaconda3\\lib\\site-packages (from pandas!=2.1.0,>=1.4->statsmodels) (2024.1)\n",
      "Requirement already satisfied: tzdata>=2022.7 in c:\\users\\andre\\anaconda3\\lib\\site-packages (from pandas!=2.1.0,>=1.4->statsmodels) (2023.3)\n",
      "Requirement already satisfied: six in c:\\users\\andre\\anaconda3\\lib\\site-packages (from patsy>=0.5.6->statsmodels) (1.16.0)\n"
     ]
    }
   ],
   "source": [
    "!pip install statsmodels"
   ]
  },
  {
   "cell_type": "code",
   "execution_count": 16,
   "metadata": {},
   "outputs": [],
   "source": [
    "import numpy as np\n",
    "import pandas as pd\n",
    "from statsmodels.tsa.stattools import adfuller"
   ]
  },
  {
   "cell_type": "code",
   "execution_count": 77,
   "metadata": {},
   "outputs": [],
   "source": [
    "cuadro = df_1[[\"Producto bruto interno por tipo de gasto (millones S/ 2007) - Demanda Interna\"]].copy()"
   ]
  },
  {
   "cell_type": "code",
   "execution_count": 78,
   "metadata": {},
   "outputs": [],
   "source": [
    "cuadro.rename(columns={'Producto bruto interno por tipo de gasto (millones S/ 2007) - Demanda Interna': 'PBI_Demanda_Interna'}, inplace=True)"
   ]
  },
  {
   "cell_type": "code",
   "execution_count": 79,
   "metadata": {},
   "outputs": [
    {
     "data": {
      "text/html": [
       "<div>\n",
       "<style scoped>\n",
       "    .dataframe tbody tr th:only-of-type {\n",
       "        vertical-align: middle;\n",
       "    }\n",
       "\n",
       "    .dataframe tbody tr th {\n",
       "        vertical-align: top;\n",
       "    }\n",
       "\n",
       "    .dataframe thead th {\n",
       "        text-align: right;\n",
       "    }\n",
       "</style>\n",
       "<table border=\"1\" class=\"dataframe\">\n",
       "  <thead>\n",
       "    <tr style=\"text-align: right;\">\n",
       "      <th></th>\n",
       "      <th>PBI_Demanda_Interna</th>\n",
       "    </tr>\n",
       "    <tr>\n",
       "      <th>Fecha</th>\n",
       "      <th></th>\n",
       "    </tr>\n",
       "  </thead>\n",
       "  <tbody>\n",
       "    <tr>\n",
       "      <th>2002-03-01</th>\n",
       "      <td>50591.247260</td>\n",
       "    </tr>\n",
       "    <tr>\n",
       "      <th>2002-06-01</th>\n",
       "      <td>56029.467831</td>\n",
       "    </tr>\n",
       "    <tr>\n",
       "      <th>2002-09-01</th>\n",
       "      <td>51402.886732</td>\n",
       "    </tr>\n",
       "    <tr>\n",
       "      <th>2002-12-01</th>\n",
       "      <td>54403.921935</td>\n",
       "    </tr>\n",
       "    <tr>\n",
       "      <th>2003-03-01</th>\n",
       "      <td>53147.807578</td>\n",
       "    </tr>\n",
       "  </tbody>\n",
       "</table>\n",
       "</div>"
      ],
      "text/plain": [
       "            PBI_Demanda_Interna\n",
       "Fecha                          \n",
       "2002-03-01         50591.247260\n",
       "2002-06-01         56029.467831\n",
       "2002-09-01         51402.886732\n",
       "2002-12-01         54403.921935\n",
       "2003-03-01         53147.807578"
      ]
     },
     "execution_count": 79,
     "metadata": {},
     "output_type": "execute_result"
    }
   ],
   "source": [
    "cuadro.head()"
   ]
  },
  {
   "cell_type": "code",
   "execution_count": 80,
   "metadata": {},
   "outputs": [
    {
     "data": {
      "text/html": [
       "<div>\n",
       "<style scoped>\n",
       "    .dataframe tbody tr th:only-of-type {\n",
       "        vertical-align: middle;\n",
       "    }\n",
       "\n",
       "    .dataframe tbody tr th {\n",
       "        vertical-align: top;\n",
       "    }\n",
       "\n",
       "    .dataframe thead th {\n",
       "        text-align: right;\n",
       "    }\n",
       "</style>\n",
       "<table border=\"1\" class=\"dataframe\">\n",
       "  <thead>\n",
       "    <tr style=\"text-align: right;\">\n",
       "      <th></th>\n",
       "      <th>PBI_Demanda_Interna</th>\n",
       "      <th>log</th>\n",
       "    </tr>\n",
       "    <tr>\n",
       "      <th>Fecha</th>\n",
       "      <th></th>\n",
       "      <th></th>\n",
       "    </tr>\n",
       "  </thead>\n",
       "  <tbody>\n",
       "    <tr>\n",
       "      <th>2002-03-01</th>\n",
       "      <td>50591.247260</td>\n",
       "      <td>10.831534</td>\n",
       "    </tr>\n",
       "    <tr>\n",
       "      <th>2002-06-01</th>\n",
       "      <td>56029.467831</td>\n",
       "      <td>10.933633</td>\n",
       "    </tr>\n",
       "    <tr>\n",
       "      <th>2002-09-01</th>\n",
       "      <td>51402.886732</td>\n",
       "      <td>10.847450</td>\n",
       "    </tr>\n",
       "    <tr>\n",
       "      <th>2002-12-01</th>\n",
       "      <td>54403.921935</td>\n",
       "      <td>10.904192</td>\n",
       "    </tr>\n",
       "    <tr>\n",
       "      <th>2003-03-01</th>\n",
       "      <td>53147.807578</td>\n",
       "      <td>10.880832</td>\n",
       "    </tr>\n",
       "  </tbody>\n",
       "</table>\n",
       "</div>"
      ],
      "text/plain": [
       "            PBI_Demanda_Interna        log\n",
       "Fecha                                     \n",
       "2002-03-01         50591.247260  10.831534\n",
       "2002-06-01         56029.467831  10.933633\n",
       "2002-09-01         51402.886732  10.847450\n",
       "2002-12-01         54403.921935  10.904192\n",
       "2003-03-01         53147.807578  10.880832"
      ]
     },
     "execution_count": 80,
     "metadata": {},
     "output_type": "execute_result"
    }
   ],
   "source": [
    "cuadro['log'] = np.log(cuadro['PBI_Demanda_Interna'])\n",
    "cuadro.head()"
   ]
  },
  {
   "cell_type": "code",
   "execution_count": 81,
   "metadata": {},
   "outputs": [],
   "source": [
    "cuadro['diff'] = cuadro.PBI_Demanda_Interna.diff()"
   ]
  },
  {
   "cell_type": "code",
   "execution_count": 83,
   "metadata": {},
   "outputs": [
    {
     "data": {
      "text/html": [
       "<div>\n",
       "<style scoped>\n",
       "    .dataframe tbody tr th:only-of-type {\n",
       "        vertical-align: middle;\n",
       "    }\n",
       "\n",
       "    .dataframe tbody tr th {\n",
       "        vertical-align: top;\n",
       "    }\n",
       "\n",
       "    .dataframe thead th {\n",
       "        text-align: right;\n",
       "    }\n",
       "</style>\n",
       "<table border=\"1\" class=\"dataframe\">\n",
       "  <thead>\n",
       "    <tr style=\"text-align: right;\">\n",
       "      <th></th>\n",
       "      <th>PBI_Demanda_Interna</th>\n",
       "      <th>log</th>\n",
       "      <th>diff</th>\n",
       "    </tr>\n",
       "    <tr>\n",
       "      <th>Fecha</th>\n",
       "      <th></th>\n",
       "      <th></th>\n",
       "      <th></th>\n",
       "    </tr>\n",
       "  </thead>\n",
       "  <tbody>\n",
       "    <tr>\n",
       "      <th>2002-03-01</th>\n",
       "      <td>50591.247260</td>\n",
       "      <td>10.831534</td>\n",
       "      <td>NaN</td>\n",
       "    </tr>\n",
       "    <tr>\n",
       "      <th>2002-06-01</th>\n",
       "      <td>56029.467831</td>\n",
       "      <td>10.933633</td>\n",
       "      <td>5438.220571</td>\n",
       "    </tr>\n",
       "    <tr>\n",
       "      <th>2002-09-01</th>\n",
       "      <td>51402.886732</td>\n",
       "      <td>10.847450</td>\n",
       "      <td>-4626.581099</td>\n",
       "    </tr>\n",
       "    <tr>\n",
       "      <th>2002-12-01</th>\n",
       "      <td>54403.921935</td>\n",
       "      <td>10.904192</td>\n",
       "      <td>3001.035203</td>\n",
       "    </tr>\n",
       "    <tr>\n",
       "      <th>2003-03-01</th>\n",
       "      <td>53147.807578</td>\n",
       "      <td>10.880832</td>\n",
       "      <td>-1256.114357</td>\n",
       "    </tr>\n",
       "  </tbody>\n",
       "</table>\n",
       "</div>"
      ],
      "text/plain": [
       "            PBI_Demanda_Interna        log         diff\n",
       "Fecha                                                  \n",
       "2002-03-01         50591.247260  10.831534          NaN\n",
       "2002-06-01         56029.467831  10.933633  5438.220571\n",
       "2002-09-01         51402.886732  10.847450 -4626.581099\n",
       "2002-12-01         54403.921935  10.904192  3001.035203\n",
       "2003-03-01         53147.807578  10.880832 -1256.114357"
      ]
     },
     "execution_count": 83,
     "metadata": {},
     "output_type": "execute_result"
    }
   ],
   "source": [
    "cuadro[[\"PBI_Demanda_Interna\", \"log\", \"diff\"]].head()"
   ]
  },
  {
   "cell_type": "code",
   "execution_count": 93,
   "metadata": {},
   "outputs": [
    {
     "data": {
      "text/html": [
       "<div>\n",
       "<style scoped>\n",
       "    .dataframe tbody tr th:only-of-type {\n",
       "        vertical-align: middle;\n",
       "    }\n",
       "\n",
       "    .dataframe tbody tr th {\n",
       "        vertical-align: top;\n",
       "    }\n",
       "\n",
       "    .dataframe thead th {\n",
       "        text-align: right;\n",
       "    }\n",
       "</style>\n",
       "<table border=\"1\" class=\"dataframe\">\n",
       "  <thead>\n",
       "    <tr style=\"text-align: right;\">\n",
       "      <th></th>\n",
       "      <th>PBI_Demanda_Interna</th>\n",
       "      <th>log</th>\n",
       "      <th>diff</th>\n",
       "    </tr>\n",
       "    <tr>\n",
       "      <th>Fecha</th>\n",
       "      <th></th>\n",
       "      <th></th>\n",
       "      <th></th>\n",
       "    </tr>\n",
       "  </thead>\n",
       "  <tbody>\n",
       "    <tr>\n",
       "      <th>2002-03-01</th>\n",
       "      <td>50591.247260</td>\n",
       "      <td>10.831534</td>\n",
       "      <td>0.000000</td>\n",
       "    </tr>\n",
       "    <tr>\n",
       "      <th>2002-06-01</th>\n",
       "      <td>56029.467831</td>\n",
       "      <td>10.933633</td>\n",
       "      <td>5438.220571</td>\n",
       "    </tr>\n",
       "    <tr>\n",
       "      <th>2002-09-01</th>\n",
       "      <td>51402.886732</td>\n",
       "      <td>10.847450</td>\n",
       "      <td>-4626.581099</td>\n",
       "    </tr>\n",
       "    <tr>\n",
       "      <th>2002-12-01</th>\n",
       "      <td>54403.921935</td>\n",
       "      <td>10.904192</td>\n",
       "      <td>3001.035203</td>\n",
       "    </tr>\n",
       "    <tr>\n",
       "      <th>2003-03-01</th>\n",
       "      <td>53147.807578</td>\n",
       "      <td>10.880832</td>\n",
       "      <td>-1256.114357</td>\n",
       "    </tr>\n",
       "  </tbody>\n",
       "</table>\n",
       "</div>"
      ],
      "text/plain": [
       "            PBI_Demanda_Interna        log         diff\n",
       "Fecha                                                  \n",
       "2002-03-01         50591.247260  10.831534     0.000000\n",
       "2002-06-01         56029.467831  10.933633  5438.220571\n",
       "2002-09-01         51402.886732  10.847450 -4626.581099\n",
       "2002-12-01         54403.921935  10.904192  3001.035203\n",
       "2003-03-01         53147.807578  10.880832 -1256.114357"
      ]
     },
     "execution_count": 93,
     "metadata": {},
     "output_type": "execute_result"
    }
   ],
   "source": [
    "cuadro.fillna(0, inplace=True)\n",
    "cuadro.head()"
   ]
  },
  {
   "cell_type": "markdown",
   "metadata": {},
   "source": [
    "PREGUNTA IV."
   ]
  },
  {
   "cell_type": "code",
   "execution_count": 94,
   "metadata": {},
   "outputs": [],
   "source": [
    "result_1 = adfuller(cuadro['PBI_Demanda_Interna'])"
   ]
  },
  {
   "cell_type": "code",
   "execution_count": 95,
   "metadata": {},
   "outputs": [
    {
     "name": "stdout",
     "output_type": "stream",
     "text": [
      "(-1.124565065987302, 0.7051768969733301, 8, 60, {'1%': -3.5443688564814813, '5%': -2.9110731481481484, '10%': -2.5931902777777776}, 1046.71855824299)\n"
     ]
    }
   ],
   "source": [
    "print(result_1)"
   ]
  },
  {
   "cell_type": "code",
   "execution_count": 96,
   "metadata": {},
   "outputs": [],
   "source": [
    "result_2 = adfuller(cuadro['log'])"
   ]
  },
  {
   "cell_type": "code",
   "execution_count": 97,
   "metadata": {},
   "outputs": [
    {
     "name": "stdout",
     "output_type": "stream",
     "text": [
      "(-1.5590985247571707, 0.504100288171749, 6, 62, {'1%': -3.540522678829176, '5%': -2.9094272025108254, '10%': -2.5923136524453696}, -249.50459753880364)\n"
     ]
    }
   ],
   "source": [
    "print(result_2)"
   ]
  },
  {
   "cell_type": "code",
   "execution_count": 98,
   "metadata": {},
   "outputs": [],
   "source": [
    "result_3 = adfuller(cuadro['diff'])"
   ]
  },
  {
   "cell_type": "code",
   "execution_count": 99,
   "metadata": {},
   "outputs": [
    {
     "name": "stdout",
     "output_type": "stream",
     "text": [
      "(-2.4649671712902346, 0.12423249183128537, 7, 61, {'1%': -3.542412746661615, '5%': -2.910236235808284, '10%': -2.5927445767266866}, 1047.4475760185471)\n"
     ]
    }
   ],
   "source": [
    "print(result_3)"
   ]
  },
  {
   "cell_type": "markdown",
   "metadata": {},
   "source": [
    "PREGUNTA V."
   ]
  },
  {
   "cell_type": "code",
   "execution_count": null,
   "metadata": {},
   "outputs": [],
   "source": [
    "from statsmodels.graphics import tsaplots"
   ]
  },
  {
   "cell_type": "code",
   "execution_count": null,
   "metadata": {},
   "outputs": [],
   "source": [
    "fig = tsaplots.plot_acf(nvidia, lags = 40)"
   ]
  }
 ],
 "metadata": {
  "kernelspec": {
   "display_name": "base",
   "language": "python",
   "name": "python3"
  },
  "language_info": {
   "codemirror_mode": {
    "name": "ipython",
    "version": 3
   },
   "file_extension": ".py",
   "mimetype": "text/x-python",
   "name": "python",
   "nbconvert_exporter": "python",
   "pygments_lexer": "ipython3",
   "version": "3.12.4"
  }
 },
 "nbformat": 4,
 "nbformat_minor": 2
}
