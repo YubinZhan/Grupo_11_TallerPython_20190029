{
 "cells": [
  {
   "cell_type": "markdown",
   "metadata": {},
   "source": [
    "PREGUNTA I."
   ]
  },
  {
   "cell_type": "code",
   "execution_count": 1,
   "metadata": {},
   "outputs": [],
   "source": [
    "import time"
   ]
  },
  {
   "cell_type": "code",
   "execution_count": 2,
   "metadata": {},
   "outputs": [
    {
     "name": "stdout",
     "output_type": "stream",
     "text": [
      "Collecting lxml\n",
      "  Downloading lxml-5.3.0-cp312-cp312-win_amd64.whl.metadata (3.9 kB)\n",
      "Downloading lxml-5.3.0-cp312-cp312-win_amd64.whl (3.8 MB)\n",
      "   ---------------------------------------- 0.0/3.8 MB ? eta -:--:--\n",
      "   ------------------------ --------------- 2.4/3.8 MB 11.2 MB/s eta 0:00:01\n",
      "   -------------------------------------- - 3.7/3.8 MB 10.9 MB/s eta 0:00:01\n",
      "   ---------------------------------------- 3.8/3.8 MB 8.1 MB/s eta 0:00:00\n",
      "Installing collected packages: lxml\n",
      "Successfully installed lxml-5.3.0\n"
     ]
    }
   ],
   "source": [
    "!pip install lxml"
   ]
  },
  {
   "cell_type": "code",
   "execution_count": 3,
   "metadata": {},
   "outputs": [
    {
     "name": "stdout",
     "output_type": "stream",
     "text": [
      "Collecting bcrp-webscrapper\n",
      "  Using cached bcrp_webscrapper-1.0.6-py3-none-any.whl.metadata (3.9 kB)\n",
      "Collecting pandas (from bcrp-webscrapper)\n",
      "  Downloading pandas-2.2.2-cp312-cp312-win_amd64.whl.metadata (19 kB)\n",
      "Collecting numpy (from bcrp-webscrapper)\n",
      "  Downloading numpy-2.1.1-cp312-cp312-win_amd64.whl.metadata (59 kB)\n",
      "Collecting requests (from bcrp-webscrapper)\n",
      "  Downloading requests-2.32.3-py3-none-any.whl.metadata (4.6 kB)\n",
      "Collecting unidecode (from bcrp-webscrapper)\n",
      "  Downloading Unidecode-1.3.8-py3-none-any.whl.metadata (13 kB)\n",
      "Collecting selenium (from bcrp-webscrapper)\n",
      "  Using cached selenium-4.24.0-py3-none-any.whl.metadata (7.1 kB)\n",
      "Collecting openpyxl (from bcrp-webscrapper)\n",
      "  Downloading openpyxl-3.1.5-py2.py3-none-any.whl.metadata (2.5 kB)\n",
      "Collecting more-itertools (from bcrp-webscrapper)\n",
      "  Downloading more_itertools-10.4.0-py3-none-any.whl.metadata (36 kB)\n",
      "Collecting webdriver-manager (from bcrp-webscrapper)\n",
      "  Using cached webdriver_manager-4.0.2-py2.py3-none-any.whl.metadata (12 kB)\n",
      "Collecting et-xmlfile (from openpyxl->bcrp-webscrapper)\n",
      "  Downloading et_xmlfile-1.1.0-py3-none-any.whl.metadata (1.8 kB)\n",
      "Requirement already satisfied: python-dateutil>=2.8.2 in c:\\users\\andre\\appdata\\roaming\\python\\python312\\site-packages (from pandas->bcrp-webscrapper) (2.9.0.post0)\n",
      "Collecting pytz>=2020.1 (from pandas->bcrp-webscrapper)\n",
      "  Downloading pytz-2024.1-py2.py3-none-any.whl.metadata (22 kB)\n",
      "Collecting tzdata>=2022.7 (from pandas->bcrp-webscrapper)\n",
      "  Downloading tzdata-2024.1-py2.py3-none-any.whl.metadata (1.4 kB)\n",
      "Collecting charset-normalizer<4,>=2 (from requests->bcrp-webscrapper)\n",
      "  Downloading charset_normalizer-3.3.2-cp312-cp312-win_amd64.whl.metadata (34 kB)\n",
      "Collecting idna<4,>=2.5 (from requests->bcrp-webscrapper)\n",
      "  Downloading idna-3.8-py3-none-any.whl.metadata (9.9 kB)\n",
      "Collecting urllib3<3,>=1.21.1 (from requests->bcrp-webscrapper)\n",
      "  Downloading urllib3-2.2.2-py3-none-any.whl.metadata (6.4 kB)\n",
      "Collecting certifi>=2017.4.17 (from requests->bcrp-webscrapper)\n",
      "  Downloading certifi-2024.8.30-py3-none-any.whl.metadata (2.2 kB)\n",
      "Collecting trio~=0.17 (from selenium->bcrp-webscrapper)\n",
      "  Using cached trio-0.26.2-py3-none-any.whl.metadata (8.6 kB)\n",
      "Collecting trio-websocket~=0.9 (from selenium->bcrp-webscrapper)\n",
      "  Using cached trio_websocket-0.11.1-py3-none-any.whl.metadata (4.7 kB)\n",
      "Collecting typing_extensions~=4.9 (from selenium->bcrp-webscrapper)\n",
      "  Downloading typing_extensions-4.12.2-py3-none-any.whl.metadata (3.0 kB)\n",
      "Collecting websocket-client~=1.8 (from selenium->bcrp-webscrapper)\n",
      "  Downloading websocket_client-1.8.0-py3-none-any.whl.metadata (8.0 kB)\n",
      "Collecting python-dotenv (from webdriver-manager->bcrp-webscrapper)\n",
      "  Downloading python_dotenv-1.0.1-py3-none-any.whl.metadata (23 kB)\n",
      "Requirement already satisfied: packaging in c:\\users\\andre\\appdata\\roaming\\python\\python312\\site-packages (from webdriver-manager->bcrp-webscrapper) (24.1)\n",
      "Requirement already satisfied: six>=1.5 in c:\\users\\andre\\appdata\\roaming\\python\\python312\\site-packages (from python-dateutil>=2.8.2->pandas->bcrp-webscrapper) (1.16.0)\n",
      "Collecting attrs>=23.2.0 (from trio~=0.17->selenium->bcrp-webscrapper)\n",
      "  Using cached attrs-24.2.0-py3-none-any.whl.metadata (11 kB)\n",
      "Collecting sortedcontainers (from trio~=0.17->selenium->bcrp-webscrapper)\n",
      "  Downloading sortedcontainers-2.4.0-py2.py3-none-any.whl.metadata (10 kB)\n",
      "Collecting outcome (from trio~=0.17->selenium->bcrp-webscrapper)\n",
      "  Using cached outcome-1.3.0.post0-py2.py3-none-any.whl.metadata (2.6 kB)\n",
      "Collecting sniffio>=1.3.0 (from trio~=0.17->selenium->bcrp-webscrapper)\n",
      "  Downloading sniffio-1.3.1-py3-none-any.whl.metadata (3.9 kB)\n",
      "Collecting cffi>=1.14 (from trio~=0.17->selenium->bcrp-webscrapper)\n",
      "  Downloading cffi-1.17.0-cp312-cp312-win_amd64.whl.metadata (1.6 kB)\n",
      "Collecting wsproto>=0.14 (from trio-websocket~=0.9->selenium->bcrp-webscrapper)\n",
      "  Using cached wsproto-1.2.0-py3-none-any.whl.metadata (5.6 kB)\n",
      "Collecting pysocks!=1.5.7,<2.0,>=1.5.6 (from urllib3[socks]<3,>=1.26->selenium->bcrp-webscrapper)\n",
      "  Downloading PySocks-1.7.1-py3-none-any.whl.metadata (13 kB)\n",
      "Collecting pycparser (from cffi>=1.14->trio~=0.17->selenium->bcrp-webscrapper)\n",
      "  Downloading pycparser-2.22-py3-none-any.whl.metadata (943 bytes)\n",
      "Collecting h11<1,>=0.9.0 (from wsproto>=0.14->trio-websocket~=0.9->selenium->bcrp-webscrapper)\n",
      "  Using cached h11-0.14.0-py3-none-any.whl.metadata (8.2 kB)\n",
      "Using cached bcrp_webscrapper-1.0.6-py3-none-any.whl (7.6 kB)\n",
      "Downloading more_itertools-10.4.0-py3-none-any.whl (60 kB)\n",
      "Downloading numpy-2.1.1-cp312-cp312-win_amd64.whl (12.6 MB)\n",
      "   ---------------------------------------- 0.0/12.6 MB ? eta -:--:--\n",
      "   ------- -------------------------------- 2.4/12.6 MB 11.2 MB/s eta 0:00:01\n",
      "   --------------- ------------------------ 4.7/12.6 MB 11.4 MB/s eta 0:00:01\n",
      "   --------------------- ------------------ 6.8/12.6 MB 10.8 MB/s eta 0:00:01\n",
      "   ----------------------------- ---------- 9.2/12.6 MB 10.8 MB/s eta 0:00:01\n",
      "   ------------------------------------- -- 11.8/12.6 MB 10.9 MB/s eta 0:00:01\n",
      "   ---------------------------------------  12.3/12.6 MB 11.0 MB/s eta 0:00:01\n",
      "   ---------------------------------------- 12.6/12.6 MB 9.4 MB/s eta 0:00:00\n",
      "Downloading openpyxl-3.1.5-py2.py3-none-any.whl (250 kB)\n",
      "Downloading pandas-2.2.2-cp312-cp312-win_amd64.whl (11.5 MB)\n",
      "   ---------------------------------------- 0.0/11.5 MB ? eta -:--:--\n",
      "   ------- -------------------------------- 2.1/11.5 MB 9.8 MB/s eta 0:00:01\n",
      "   -------------- ------------------------- 4.2/11.5 MB 9.0 MB/s eta 0:00:01\n",
      "   --------------------- ------------------ 6.3/11.5 MB 9.4 MB/s eta 0:00:01\n",
      "   ----------------------------- ---------- 8.4/11.5 MB 9.6 MB/s eta 0:00:01\n",
      "   ------------------------------------- -- 10.7/11.5 MB 9.7 MB/s eta 0:00:01\n",
      "   ---------------------------------------- 11.5/11.5 MB 9.1 MB/s eta 0:00:00\n",
      "Downloading requests-2.32.3-py3-none-any.whl (64 kB)\n",
      "Using cached selenium-4.24.0-py3-none-any.whl (9.6 MB)\n",
      "Downloading Unidecode-1.3.8-py3-none-any.whl (235 kB)\n",
      "Using cached webdriver_manager-4.0.2-py2.py3-none-any.whl (27 kB)\n",
      "Downloading certifi-2024.8.30-py3-none-any.whl (167 kB)\n",
      "Downloading charset_normalizer-3.3.2-cp312-cp312-win_amd64.whl (100 kB)\n",
      "Downloading idna-3.8-py3-none-any.whl (66 kB)\n",
      "Downloading pytz-2024.1-py2.py3-none-any.whl (505 kB)\n",
      "Using cached trio-0.26.2-py3-none-any.whl (475 kB)\n",
      "Using cached trio_websocket-0.11.1-py3-none-any.whl (17 kB)\n",
      "Downloading typing_extensions-4.12.2-py3-none-any.whl (37 kB)\n",
      "Downloading tzdata-2024.1-py2.py3-none-any.whl (345 kB)\n",
      "Downloading urllib3-2.2.2-py3-none-any.whl (121 kB)\n",
      "Downloading websocket_client-1.8.0-py3-none-any.whl (58 kB)\n",
      "Downloading et_xmlfile-1.1.0-py3-none-any.whl (4.7 kB)\n",
      "Downloading python_dotenv-1.0.1-py3-none-any.whl (19 kB)\n",
      "Using cached attrs-24.2.0-py3-none-any.whl (63 kB)\n",
      "Downloading cffi-1.17.0-cp312-cp312-win_amd64.whl (181 kB)\n",
      "Downloading PySocks-1.7.1-py3-none-any.whl (16 kB)\n",
      "Downloading sniffio-1.3.1-py3-none-any.whl (10 kB)\n",
      "Using cached wsproto-1.2.0-py3-none-any.whl (24 kB)\n",
      "Using cached outcome-1.3.0.post0-py2.py3-none-any.whl (10 kB)\n",
      "Downloading sortedcontainers-2.4.0-py2.py3-none-any.whl (29 kB)\n",
      "Using cached h11-0.14.0-py3-none-any.whl (58 kB)\n",
      "Downloading pycparser-2.22-py3-none-any.whl (117 kB)\n",
      "Installing collected packages: sortedcontainers, pytz, websocket-client, urllib3, unidecode, tzdata, typing_extensions, sniffio, python-dotenv, pysocks, pycparser, numpy, more-itertools, idna, h11, et-xmlfile, charset-normalizer, certifi, attrs, wsproto, requests, pandas, outcome, openpyxl, cffi, webdriver-manager, trio, trio-websocket, selenium, bcrp-webscrapper\n",
      "Successfully installed attrs-24.2.0 bcrp-webscrapper-1.0.6 certifi-2024.8.30 cffi-1.17.0 charset-normalizer-3.3.2 et-xmlfile-1.1.0 h11-0.14.0 idna-3.8 more-itertools-10.4.0 numpy-2.1.1 openpyxl-3.1.5 outcome-1.3.0.post0 pandas-2.2.2 pycparser-2.22 pysocks-1.7.1 python-dotenv-1.0.1 pytz-2024.1 requests-2.32.3 selenium-4.24.0 sniffio-1.3.1 sortedcontainers-2.4.0 trio-0.26.2 trio-websocket-0.11.1 typing_extensions-4.12.2 tzdata-2024.1 unidecode-1.3.8 urllib3-2.2.2 webdriver-manager-4.0.2 websocket-client-1.8.0 wsproto-1.2.0\n"
     ]
    }
   ],
   "source": [
    "!pip install bcrp-webscrapper"
   ]
  },
  {
   "cell_type": "code",
   "execution_count": 4,
   "metadata": {},
   "outputs": [
    {
     "name": "stdout",
     "output_type": "stream",
     "text": [
      "Name: bcrp_webscrapper\n",
      "Version: 1.0.6\n",
      "Summary: Time series extraction from the Peruvian Central Bank Database (BCRP Statistics)\n",
      "Home-page: https://github.com/estcab00/bcrp-webscrapper\n",
      "Author: Esteban Cabrera\n",
      "Author-email: \n",
      "License: \n",
      "Location: C:\\Users\\andre\\AppData\\Local\\Programs\\Python\\Python312\\Lib\\site-packages\n",
      "Requires: more-itertools, numpy, openpyxl, pandas, requests, selenium, unidecode, webdriver-manager\n",
      "Required-by: \n",
      "Files:\n",
      "  bcrp_webscrapper-1.0.6.dist-info\\INSTALLER\n",
      "  bcrp_webscrapper-1.0.6.dist-info\\LICENSE\n",
      "  bcrp_webscrapper-1.0.6.dist-info\\METADATA\n",
      "  bcrp_webscrapper-1.0.6.dist-info\\RECORD\n",
      "  bcrp_webscrapper-1.0.6.dist-info\\REQUESTED\n",
      "  bcrp_webscrapper-1.0.6.dist-info\\WHEEL\n",
      "  bcrp_webscrapper-1.0.6.dist-info\\top_level.txt\n",
      "  bcrp_webscrapper\\__init__.py\n",
      "  bcrp_webscrapper\\__pycache__\\__init__.cpython-312.pyc\n",
      "  bcrp_webscrapper\\__pycache__\\bcrp.cpython-312.pyc\n",
      "  bcrp_webscrapper\\bcrp.py\n"
     ]
    }
   ],
   "source": [
    "!pip show -f bcrp_webscrapper"
   ]
  },
  {
   "cell_type": "code",
   "execution_count": 5,
   "metadata": {},
   "outputs": [],
   "source": [
    "from bcrp_webscrapper import *"
   ]
  },
  {
   "cell_type": "code",
   "execution_count": 6,
   "metadata": {},
   "outputs": [
    {
     "name": "stdout",
     "output_type": "stream",
     "text": [
      "['ActionChains', 'By', 'ChromeDriverManager', 'EC', 'IFrame', 'Keys', 'Options', 'SVG', 'Select', 'Service', 'StringIO', 'WebDriverWait', 'Workbook', '__builtins__', '__cached__', '__doc__', '__file__', '__loader__', '__name__', '__package__', '__spec__', 'bcrp_dataframe', 'bcrp_graph', 'bcrp_scrapper', 'bcrp_search', 'display', 'download_graph', 'itertools', 'json', 'json_normalize', 'np', 'os', 'pd', 'random', 're', 'requests', 'scrapper_anual', 'scrapper_diario', 'scrapper_mensual', 'scrapper_trimestral', 'sleep', 'time', 'unidecode', 'urllib', 'webdriver']\n"
     ]
    }
   ],
   "source": [
    "from bcrp_webscrapper import bcrp\n",
    "print(dir(bcrp))"
   ]
  },
  {
   "cell_type": "code",
   "execution_count": 7,
   "metadata": {},
   "outputs": [
    {
     "data": {
      "text/html": [
       "<div>\n",
       "<style scoped>\n",
       "    .dataframe tbody tr th:only-of-type {\n",
       "        vertical-align: middle;\n",
       "    }\n",
       "\n",
       "    .dataframe tbody tr th {\n",
       "        vertical-align: top;\n",
       "    }\n",
       "\n",
       "    .dataframe thead th {\n",
       "        text-align: right;\n",
       "    }\n",
       "</style>\n",
       "<table border=\"1\" class=\"dataframe\">\n",
       "  <thead>\n",
       "    <tr style=\"text-align: right;\">\n",
       "      <th></th>\n",
       "      <th>Código</th>\n",
       "      <th>Descripción</th>\n",
       "      <th>Frecuencia</th>\n",
       "    </tr>\n",
       "  </thead>\n",
       "  <tbody>\n",
       "    <tr>\n",
       "      <th>0</th>\n",
       "      <td>PN39209BQ</td>\n",
       "      <td>Importaciones según uso o destino económico - ...</td>\n",
       "      <td>Trimestral</td>\n",
       "    </tr>\n",
       "    <tr>\n",
       "      <th>1</th>\n",
       "      <td>PN39208BQ</td>\n",
       "      <td>Importaciones según uso o destino económico - ...</td>\n",
       "      <td>Trimestral</td>\n",
       "    </tr>\n",
       "    <tr>\n",
       "      <th>2</th>\n",
       "      <td>PN39207BQ</td>\n",
       "      <td>Importaciones según uso o destino económico - ...</td>\n",
       "      <td>Trimestral</td>\n",
       "    </tr>\n",
       "    <tr>\n",
       "      <th>3</th>\n",
       "      <td>PN39035BQ</td>\n",
       "      <td>Balanza comercial - valores FOB (millones US$)...</td>\n",
       "      <td>Trimestral</td>\n",
       "    </tr>\n",
       "    <tr>\n",
       "      <th>32</th>\n",
       "      <td>PN03263FQ</td>\n",
       "      <td>Ingresos corrientes del gobierno general (porc...</td>\n",
       "      <td>Trimestral</td>\n",
       "    </tr>\n",
       "    <tr>\n",
       "      <th>33</th>\n",
       "      <td>PN03262FQ</td>\n",
       "      <td>Ingresos corrientes del gobierno general (porc...</td>\n",
       "      <td>Trimestral</td>\n",
       "    </tr>\n",
       "    <tr>\n",
       "      <th>34</th>\n",
       "      <td>PN03261FQ</td>\n",
       "      <td>Ingresos corrientes del gobierno general (porc...</td>\n",
       "      <td>Trimestral</td>\n",
       "    </tr>\n",
       "    <tr>\n",
       "      <th>35</th>\n",
       "      <td>PN03227FQ</td>\n",
       "      <td>Ingresos corrientes del gobierno general (mill...</td>\n",
       "      <td>Trimestral</td>\n",
       "    </tr>\n",
       "    <tr>\n",
       "      <th>36</th>\n",
       "      <td>PN03226FQ</td>\n",
       "      <td>Ingresos corrientes del gobierno general (mill...</td>\n",
       "      <td>Trimestral</td>\n",
       "    </tr>\n",
       "    <tr>\n",
       "      <th>37</th>\n",
       "      <td>PN03225FQ</td>\n",
       "      <td>Ingresos corrientes del gobierno general (mill...</td>\n",
       "      <td>Trimestral</td>\n",
       "    </tr>\n",
       "    <tr>\n",
       "      <th>38</th>\n",
       "      <td>PN02815BQ</td>\n",
       "      <td>Importaciones según uso o destino económico - ...</td>\n",
       "      <td>Trimestral</td>\n",
       "    </tr>\n",
       "    <tr>\n",
       "      <th>39</th>\n",
       "      <td>PN02814BQ</td>\n",
       "      <td>Importaciones según uso o destino económico - ...</td>\n",
       "      <td>Trimestral</td>\n",
       "    </tr>\n",
       "    <tr>\n",
       "      <th>40</th>\n",
       "      <td>PN02813BQ</td>\n",
       "      <td>Importaciones según uso o destino económico - ...</td>\n",
       "      <td>Trimestral</td>\n",
       "    </tr>\n",
       "    <tr>\n",
       "      <th>41</th>\n",
       "      <td>PN02641BQ</td>\n",
       "      <td>Balanza comercial - valores FOB (millones US$)...</td>\n",
       "      <td>Trimestral</td>\n",
       "    </tr>\n",
       "    <tr>\n",
       "      <th>42</th>\n",
       "      <td>PN02553AQ</td>\n",
       "      <td>Producto bruto interno por tipo de gasto (porc...</td>\n",
       "      <td>Trimestral</td>\n",
       "    </tr>\n",
       "    <tr>\n",
       "      <th>43</th>\n",
       "      <td>PN02552AQ</td>\n",
       "      <td>Producto bruto interno por tipo de gasto (porc...</td>\n",
       "      <td>Trimestral</td>\n",
       "    </tr>\n",
       "    <tr>\n",
       "      <th>44</th>\n",
       "      <td>PN02542AQ</td>\n",
       "      <td>Producto bruto interno por tipo de gasto (mill...</td>\n",
       "      <td>Trimestral</td>\n",
       "    </tr>\n",
       "    <tr>\n",
       "      <th>45</th>\n",
       "      <td>PN02541AQ</td>\n",
       "      <td>Producto bruto interno por tipo de gasto (mill...</td>\n",
       "      <td>Trimestral</td>\n",
       "    </tr>\n",
       "    <tr>\n",
       "      <th>46</th>\n",
       "      <td>PN02530AQ</td>\n",
       "      <td>Producto bruto interno por tipo de gasto (mill...</td>\n",
       "      <td>Trimestral</td>\n",
       "    </tr>\n",
       "    <tr>\n",
       "      <th>47</th>\n",
       "      <td>PN02529AQ</td>\n",
       "      <td>Producto bruto interno por tipo de gasto (mill...</td>\n",
       "      <td>Trimestral</td>\n",
       "    </tr>\n",
       "    <tr>\n",
       "      <th>48</th>\n",
       "      <td>PN02519AQ</td>\n",
       "      <td>Producto bruto interno por tipo de gasto (vari...</td>\n",
       "      <td>Trimestral</td>\n",
       "    </tr>\n",
       "    <tr>\n",
       "      <th>49</th>\n",
       "      <td>PN02518AQ</td>\n",
       "      <td>Producto bruto interno por tipo de gasto (vari...</td>\n",
       "      <td>Trimestral</td>\n",
       "    </tr>\n",
       "  </tbody>\n",
       "</table>\n",
       "</div>"
      ],
      "text/plain": [
       "       Código                                        Descripción  Frecuencia\n",
       "0   PN39209BQ  Importaciones según uso o destino económico - ...  Trimestral\n",
       "1   PN39208BQ  Importaciones según uso o destino económico - ...  Trimestral\n",
       "2   PN39207BQ  Importaciones según uso o destino económico - ...  Trimestral\n",
       "3   PN39035BQ  Balanza comercial - valores FOB (millones US$)...  Trimestral\n",
       "32  PN03263FQ  Ingresos corrientes del gobierno general (porc...  Trimestral\n",
       "33  PN03262FQ  Ingresos corrientes del gobierno general (porc...  Trimestral\n",
       "34  PN03261FQ  Ingresos corrientes del gobierno general (porc...  Trimestral\n",
       "35  PN03227FQ  Ingresos corrientes del gobierno general (mill...  Trimestral\n",
       "36  PN03226FQ  Ingresos corrientes del gobierno general (mill...  Trimestral\n",
       "37  PN03225FQ  Ingresos corrientes del gobierno general (mill...  Trimestral\n",
       "38  PN02815BQ  Importaciones según uso o destino económico - ...  Trimestral\n",
       "39  PN02814BQ  Importaciones según uso o destino económico - ...  Trimestral\n",
       "40  PN02813BQ  Importaciones según uso o destino económico - ...  Trimestral\n",
       "41  PN02641BQ  Balanza comercial - valores FOB (millones US$)...  Trimestral\n",
       "42  PN02553AQ  Producto bruto interno por tipo de gasto (porc...  Trimestral\n",
       "43  PN02552AQ  Producto bruto interno por tipo de gasto (porc...  Trimestral\n",
       "44  PN02542AQ  Producto bruto interno por tipo de gasto (mill...  Trimestral\n",
       "45  PN02541AQ  Producto bruto interno por tipo de gasto (mill...  Trimestral\n",
       "46  PN02530AQ  Producto bruto interno por tipo de gasto (mill...  Trimestral\n",
       "47  PN02529AQ  Producto bruto interno por tipo de gasto (mill...  Trimestral\n",
       "48  PN02519AQ  Producto bruto interno por tipo de gasto (vari...  Trimestral\n",
       "49  PN02518AQ  Producto bruto interno por tipo de gasto (vari...  Trimestral"
      ]
     },
     "execution_count": 7,
     "metadata": {},
     "output_type": "execute_result"
    }
   ],
   "source": [
    "bcrp.bcrp_search(\"Consumo\", \"Trimestral\")"
   ]
  },
  {
   "cell_type": "code",
   "execution_count": 8,
   "metadata": {},
   "outputs": [
    {
     "data": {
      "text/html": [
       "<div>\n",
       "<style scoped>\n",
       "    .dataframe tbody tr th:only-of-type {\n",
       "        vertical-align: middle;\n",
       "    }\n",
       "\n",
       "    .dataframe tbody tr th {\n",
       "        vertical-align: top;\n",
       "    }\n",
       "\n",
       "    .dataframe thead th {\n",
       "        text-align: right;\n",
       "    }\n",
       "</style>\n",
       "<table border=\"1\" class=\"dataframe\">\n",
       "  <thead>\n",
       "    <tr style=\"text-align: right;\">\n",
       "      <th></th>\n",
       "      <th>Código</th>\n",
       "      <th>Descripción</th>\n",
       "      <th>Frecuencia</th>\n",
       "    </tr>\n",
       "  </thead>\n",
       "  <tbody>\n",
       "    <tr>\n",
       "      <th>79</th>\n",
       "      <td>RD15481DQ</td>\n",
       "      <td>Inversión bruta fija de los gobiernos regional...</td>\n",
       "      <td>Trimestral</td>\n",
       "    </tr>\n",
       "    <tr>\n",
       "      <th>80</th>\n",
       "      <td>RD15480DQ</td>\n",
       "      <td>Inversión bruta fija de los gobiernos regional...</td>\n",
       "      <td>Trimestral</td>\n",
       "    </tr>\n",
       "    <tr>\n",
       "      <th>81</th>\n",
       "      <td>RD15479DQ</td>\n",
       "      <td>Inversión bruta fija de los gobiernos regional...</td>\n",
       "      <td>Trimestral</td>\n",
       "    </tr>\n",
       "    <tr>\n",
       "      <th>82</th>\n",
       "      <td>RD15478DQ</td>\n",
       "      <td>Inversión bruta fija de los gobiernos regional...</td>\n",
       "      <td>Trimestral</td>\n",
       "    </tr>\n",
       "    <tr>\n",
       "      <th>83</th>\n",
       "      <td>RD15477DQ</td>\n",
       "      <td>Inversión bruta fija de los gobiernos regional...</td>\n",
       "      <td>Trimestral</td>\n",
       "    </tr>\n",
       "    <tr>\n",
       "      <th>...</th>\n",
       "      <td>...</td>\n",
       "      <td>...</td>\n",
       "      <td>...</td>\n",
       "    </tr>\n",
       "    <tr>\n",
       "      <th>300</th>\n",
       "      <td>PN02440FQ</td>\n",
       "      <td>Flujos macroeconómicos (porcentaje del PBI) - ...</td>\n",
       "      <td>Trimestral</td>\n",
       "    </tr>\n",
       "    <tr>\n",
       "      <th>301</th>\n",
       "      <td>PN02439FQ</td>\n",
       "      <td>Flujos macroeconómicos (porcentaje del PBI) - ...</td>\n",
       "      <td>Trimestral</td>\n",
       "    </tr>\n",
       "    <tr>\n",
       "      <th>302</th>\n",
       "      <td>PN02438FQ</td>\n",
       "      <td>Flujos macroeconómicos (porcentaje del PBI) - ...</td>\n",
       "      <td>Trimestral</td>\n",
       "    </tr>\n",
       "    <tr>\n",
       "      <th>303</th>\n",
       "      <td>PN02437FQ</td>\n",
       "      <td>Flujos macroeconómicos (porcentaje del PBI) - ...</td>\n",
       "      <td>Trimestral</td>\n",
       "    </tr>\n",
       "    <tr>\n",
       "      <th>304</th>\n",
       "      <td>PN02436FQ</td>\n",
       "      <td>Flujos macroeconómicos (porcentaje del PBI) - ...</td>\n",
       "      <td>Trimestral</td>\n",
       "    </tr>\n",
       "  </tbody>\n",
       "</table>\n",
       "<p>147 rows × 3 columns</p>\n",
       "</div>"
      ],
      "text/plain": [
       "        Código                                        Descripción  Frecuencia\n",
       "79   RD15481DQ  Inversión bruta fija de los gobiernos regional...  Trimestral\n",
       "80   RD15480DQ  Inversión bruta fija de los gobiernos regional...  Trimestral\n",
       "81   RD15479DQ  Inversión bruta fija de los gobiernos regional...  Trimestral\n",
       "82   RD15478DQ  Inversión bruta fija de los gobiernos regional...  Trimestral\n",
       "83   RD15477DQ  Inversión bruta fija de los gobiernos regional...  Trimestral\n",
       "..         ...                                                ...         ...\n",
       "300  PN02440FQ  Flujos macroeconómicos (porcentaje del PBI) - ...  Trimestral\n",
       "301  PN02439FQ  Flujos macroeconómicos (porcentaje del PBI) - ...  Trimestral\n",
       "302  PN02438FQ  Flujos macroeconómicos (porcentaje del PBI) - ...  Trimestral\n",
       "303  PN02437FQ  Flujos macroeconómicos (porcentaje del PBI) - ...  Trimestral\n",
       "304  PN02436FQ  Flujos macroeconómicos (porcentaje del PBI) - ...  Trimestral\n",
       "\n",
       "[147 rows x 3 columns]"
      ]
     },
     "execution_count": 8,
     "metadata": {},
     "output_type": "execute_result"
    }
   ],
   "source": [
    "bcrp.bcrp_search(\"Inversion\", \"Trimestral\")"
   ]
  },
  {
   "cell_type": "markdown",
   "metadata": {},
   "source": [
    "PREGUNTA II."
   ]
  },
  {
   "cell_type": "code",
   "execution_count": 9,
   "metadata": {},
   "outputs": [
    {
     "name": "stdout",
     "output_type": "stream",
     "text": [
      "Requirement already satisfied: pandas in c:\\users\\andre\\appdata\\local\\programs\\python\\python312\\lib\\site-packages (2.2.2)\n",
      "Requirement already satisfied: numpy>=1.26.0 in c:\\users\\andre\\appdata\\local\\programs\\python\\python312\\lib\\site-packages (from pandas) (2.1.1)\n",
      "Requirement already satisfied: python-dateutil>=2.8.2 in c:\\users\\andre\\appdata\\roaming\\python\\python312\\site-packages (from pandas) (2.9.0.post0)\n",
      "Requirement already satisfied: pytz>=2020.1 in c:\\users\\andre\\appdata\\local\\programs\\python\\python312\\lib\\site-packages (from pandas) (2024.1)\n",
      "Requirement already satisfied: tzdata>=2022.7 in c:\\users\\andre\\appdata\\local\\programs\\python\\python312\\lib\\site-packages (from pandas) (2024.1)\n",
      "Requirement already satisfied: six>=1.5 in c:\\users\\andre\\appdata\\roaming\\python\\python312\\site-packages (from python-dateutil>=2.8.2->pandas) (1.16.0)\n"
     ]
    }
   ],
   "source": [
    "!pip install pandas"
   ]
  },
  {
   "cell_type": "code",
   "execution_count": 10,
   "metadata": {},
   "outputs": [],
   "source": [
    "import pandas as pd"
   ]
  },
  {
   "cell_type": "code",
   "execution_count": 11,
   "metadata": {},
   "outputs": [
    {
     "data": {
      "text/html": [
       "<div>\n",
       "<style scoped>\n",
       "    .dataframe tbody tr th:only-of-type {\n",
       "        vertical-align: middle;\n",
       "    }\n",
       "\n",
       "    .dataframe tbody tr th {\n",
       "        vertical-align: top;\n",
       "    }\n",
       "\n",
       "    .dataframe thead th {\n",
       "        text-align: right;\n",
       "    }\n",
       "</style>\n",
       "<table border=\"1\" class=\"dataframe\">\n",
       "  <thead>\n",
       "    <tr style=\"text-align: right;\">\n",
       "      <th></th>\n",
       "      <th>Producto bruto interno por tipo de gasto (millones S/ 2007) - Demanda Interna</th>\n",
       "      <th>Producto bruto interno por tipo de gasto (millones S/ 2007) - Demanda Interna - Consumo Privado</th>\n",
       "      <th>Producto bruto interno por tipo de gasto (millones S/ 2007) - Demanda Interna - Consumo Público</th>\n",
       "      <th>Producto bruto interno por tipo de gasto (millones S/ 2007) - Demanda Interna - Inversión Bruta Interna - Inversión Bruta Fija - Privada</th>\n",
       "    </tr>\n",
       "    <tr>\n",
       "      <th>Fecha</th>\n",
       "      <th></th>\n",
       "      <th></th>\n",
       "      <th></th>\n",
       "      <th></th>\n",
       "    </tr>\n",
       "  </thead>\n",
       "  <tbody>\n",
       "    <tr>\n",
       "      <th>2002-03-01</th>\n",
       "      <td>50591</td>\n",
       "      <td>37166</td>\n",
       "      <td>5558</td>\n",
       "      <td>6669</td>\n",
       "    </tr>\n",
       "    <tr>\n",
       "      <th>2002-06-01</th>\n",
       "      <td>56029</td>\n",
       "      <td>37694</td>\n",
       "      <td>6165</td>\n",
       "      <td>6730</td>\n",
       "    </tr>\n",
       "    <tr>\n",
       "      <th>2002-09-01</th>\n",
       "      <td>51403</td>\n",
       "      <td>38481</td>\n",
       "      <td>6562</td>\n",
       "      <td>7277</td>\n",
       "    </tr>\n",
       "    <tr>\n",
       "      <th>2002-12-01</th>\n",
       "      <td>54404</td>\n",
       "      <td>38332</td>\n",
       "      <td>6955</td>\n",
       "      <td>7469</td>\n",
       "    </tr>\n",
       "    <tr>\n",
       "      <th>2003-03-01</th>\n",
       "      <td>53148</td>\n",
       "      <td>37521</td>\n",
       "      <td>5884</td>\n",
       "      <td>7264</td>\n",
       "    </tr>\n",
       "  </tbody>\n",
       "</table>\n",
       "</div>"
      ],
      "text/plain": [
       "            Producto bruto interno por tipo de gasto (millones S/ 2007) - Demanda Interna  \\\n",
       "Fecha                                                                                       \n",
       "2002-03-01                                              50591                               \n",
       "2002-06-01                                              56029                               \n",
       "2002-09-01                                              51403                               \n",
       "2002-12-01                                              54404                               \n",
       "2003-03-01                                              53148                               \n",
       "\n",
       "            Producto bruto interno por tipo de gasto (millones S/ 2007) - Demanda Interna - Consumo Privado  \\\n",
       "Fecha                                                                                                         \n",
       "2002-03-01                                              37166                                                 \n",
       "2002-06-01                                              37694                                                 \n",
       "2002-09-01                                              38481                                                 \n",
       "2002-12-01                                              38332                                                 \n",
       "2003-03-01                                              37521                                                 \n",
       "\n",
       "            Producto bruto interno por tipo de gasto (millones S/ 2007) - Demanda Interna - Consumo Público  \\\n",
       "Fecha                                                                                                         \n",
       "2002-03-01                                               5558                                                 \n",
       "2002-06-01                                               6165                                                 \n",
       "2002-09-01                                               6562                                                 \n",
       "2002-12-01                                               6955                                                 \n",
       "2003-03-01                                               5884                                                 \n",
       "\n",
       "            Producto bruto interno por tipo de gasto (millones S/ 2007) - Demanda Interna - Inversión Bruta Interna - Inversión Bruta Fija - Privada  \n",
       "Fecha                                                                                                                                                 \n",
       "2002-03-01                                               6669                                                                                         \n",
       "2002-06-01                                               6730                                                                                         \n",
       "2002-09-01                                               7277                                                                                         \n",
       "2002-12-01                                               7469                                                                                         \n",
       "2003-03-01                                               7264                                                                                         "
      ]
     },
     "execution_count": 11,
     "metadata": {},
     "output_type": "execute_result"
    }
   ],
   "source": [
    "bcrp.bcrp_scrapper( ['PN02528AQ', 'PN02529AQ', 'PN02533AQ', 'PN02530AQ'] , '2002-01-01' , '2019-12-31' , 'Trimestral' ).head()"
   ]
  },
  {
   "cell_type": "code",
   "execution_count": 12,
   "metadata": {},
   "outputs": [],
   "source": [
    "series     = ['PN02528AQ', 'PN02529AQ', 'PN02533AQ', 'PN02530AQ']\n",
    "start_date = '2002-01'\n",
    "end_date   = '2019-12'\n",
    "freq       = 'Trimestral'"
   ]
  },
  {
   "cell_type": "code",
   "execution_count": 13,
   "metadata": {},
   "outputs": [
    {
     "data": {
      "text/html": [
       "<div>\n",
       "<style scoped>\n",
       "    .dataframe tbody tr th:only-of-type {\n",
       "        vertical-align: middle;\n",
       "    }\n",
       "\n",
       "    .dataframe tbody tr th {\n",
       "        vertical-align: top;\n",
       "    }\n",
       "\n",
       "    .dataframe thead th {\n",
       "        text-align: right;\n",
       "    }\n",
       "</style>\n",
       "<table border=\"1\" class=\"dataframe\">\n",
       "  <thead>\n",
       "    <tr style=\"text-align: right;\">\n",
       "      <th></th>\n",
       "      <th>Producto bruto interno por tipo de gasto (millones S/ 2007) - Demanda Interna</th>\n",
       "      <th>Producto bruto interno por tipo de gasto (millones S/ 2007) - Demanda Interna - Consumo Privado</th>\n",
       "      <th>Producto bruto interno por tipo de gasto (millones S/ 2007) - Demanda Interna - Inversión Bruta Interna - Inversión Bruta Fija - Privada</th>\n",
       "      <th>Producto bruto interno por tipo de gasto (millones S/ 2007) - Demanda Interna - Consumo Público</th>\n",
       "    </tr>\n",
       "    <tr>\n",
       "      <th>Fecha</th>\n",
       "      <th></th>\n",
       "      <th></th>\n",
       "      <th></th>\n",
       "      <th></th>\n",
       "    </tr>\n",
       "  </thead>\n",
       "  <tbody>\n",
       "    <tr>\n",
       "      <th>2002-03-01</th>\n",
       "      <td>50591.247260</td>\n",
       "      <td>37166.146390</td>\n",
       "      <td>6669.326452</td>\n",
       "      <td>5558.244971</td>\n",
       "    </tr>\n",
       "    <tr>\n",
       "      <th>2002-06-01</th>\n",
       "      <td>56029.467831</td>\n",
       "      <td>37694.374564</td>\n",
       "      <td>6729.810360</td>\n",
       "      <td>6165.224607</td>\n",
       "    </tr>\n",
       "    <tr>\n",
       "      <th>2002-09-01</th>\n",
       "      <td>51402.886732</td>\n",
       "      <td>38481.146673</td>\n",
       "      <td>7277.015085</td>\n",
       "      <td>6561.996649</td>\n",
       "    </tr>\n",
       "    <tr>\n",
       "      <th>2002-12-01</th>\n",
       "      <td>54403.921935</td>\n",
       "      <td>38332.332373</td>\n",
       "      <td>7468.848103</td>\n",
       "      <td>6954.533773</td>\n",
       "    </tr>\n",
       "    <tr>\n",
       "      <th>2003-03-01</th>\n",
       "      <td>53147.807578</td>\n",
       "      <td>37520.546837</td>\n",
       "      <td>7263.930443</td>\n",
       "      <td>5883.623782</td>\n",
       "    </tr>\n",
       "  </tbody>\n",
       "</table>\n",
       "</div>"
      ],
      "text/plain": [
       "            Producto bruto interno por tipo de gasto (millones S/ 2007) - Demanda Interna  \\\n",
       "Fecha                                                                                       \n",
       "2002-03-01                                       50591.247260                               \n",
       "2002-06-01                                       56029.467831                               \n",
       "2002-09-01                                       51402.886732                               \n",
       "2002-12-01                                       54403.921935                               \n",
       "2003-03-01                                       53147.807578                               \n",
       "\n",
       "            Producto bruto interno por tipo de gasto (millones S/ 2007) - Demanda Interna - Consumo Privado  \\\n",
       "Fecha                                                                                                         \n",
       "2002-03-01                                       37166.146390                                                 \n",
       "2002-06-01                                       37694.374564                                                 \n",
       "2002-09-01                                       38481.146673                                                 \n",
       "2002-12-01                                       38332.332373                                                 \n",
       "2003-03-01                                       37520.546837                                                 \n",
       "\n",
       "            Producto bruto interno por tipo de gasto (millones S/ 2007) - Demanda Interna - Inversión Bruta Interna - Inversión Bruta Fija - Privada  \\\n",
       "Fecha                                                                                                                                                  \n",
       "2002-03-01                                        6669.326452                                                                                          \n",
       "2002-06-01                                        6729.810360                                                                                          \n",
       "2002-09-01                                        7277.015085                                                                                          \n",
       "2002-12-01                                        7468.848103                                                                                          \n",
       "2003-03-01                                        7263.930443                                                                                          \n",
       "\n",
       "            Producto bruto interno por tipo de gasto (millones S/ 2007) - Demanda Interna - Consumo Público  \n",
       "Fecha                                                                                                        \n",
       "2002-03-01                                        5558.244971                                                \n",
       "2002-06-01                                        6165.224607                                                \n",
       "2002-09-01                                        6561.996649                                                \n",
       "2002-12-01                                        6954.533773                                                \n",
       "2003-03-01                                        5883.623782                                                "
      ]
     },
     "execution_count": 13,
     "metadata": {},
     "output_type": "execute_result"
    }
   ],
   "source": [
    "df_1 = bcrp.bcrp_dataframe( series , start_date , end_date , freq )\n",
    "df_1.head()"
   ]
  },
  {
   "cell_type": "markdown",
   "metadata": {},
   "source": [
    "PREGUNTA III."
   ]
  },
  {
   "cell_type": "code",
   "execution_count": 14,
   "metadata": {},
   "outputs": [
    {
     "name": "stdout",
     "output_type": "stream",
     "text": [
      "Requirement already satisfied: numpy in c:\\users\\andre\\appdata\\local\\programs\\python\\python312\\lib\\site-packages (2.1.1)\n"
     ]
    }
   ],
   "source": [
    "!pip install numpy"
   ]
  },
  {
   "cell_type": "code",
   "execution_count": 15,
   "metadata": {},
   "outputs": [
    {
     "name": "stdout",
     "output_type": "stream",
     "text": [
      "Collecting statsmodels\n",
      "  Downloading statsmodels-0.14.2-cp312-cp312-win_amd64.whl.metadata (9.5 kB)\n",
      "Requirement already satisfied: numpy>=1.22.3 in c:\\users\\andre\\appdata\\local\\programs\\python\\python312\\lib\\site-packages (from statsmodels) (2.1.1)\n",
      "Collecting scipy!=1.9.2,>=1.8 (from statsmodels)\n",
      "  Downloading scipy-1.14.1-cp312-cp312-win_amd64.whl.metadata (60 kB)\n",
      "Requirement already satisfied: pandas!=2.1.0,>=1.4 in c:\\users\\andre\\appdata\\local\\programs\\python\\python312\\lib\\site-packages (from statsmodels) (2.2.2)\n",
      "Collecting patsy>=0.5.6 (from statsmodels)\n",
      "  Downloading patsy-0.5.6-py2.py3-none-any.whl.metadata (3.5 kB)\n",
      "Requirement already satisfied: packaging>=21.3 in c:\\users\\andre\\appdata\\roaming\\python\\python312\\site-packages (from statsmodels) (24.1)\n",
      "Requirement already satisfied: python-dateutil>=2.8.2 in c:\\users\\andre\\appdata\\roaming\\python\\python312\\site-packages (from pandas!=2.1.0,>=1.4->statsmodels) (2.9.0.post0)\n",
      "Requirement already satisfied: pytz>=2020.1 in c:\\users\\andre\\appdata\\local\\programs\\python\\python312\\lib\\site-packages (from pandas!=2.1.0,>=1.4->statsmodels) (2024.1)\n",
      "Requirement already satisfied: tzdata>=2022.7 in c:\\users\\andre\\appdata\\local\\programs\\python\\python312\\lib\\site-packages (from pandas!=2.1.0,>=1.4->statsmodels) (2024.1)\n",
      "Requirement already satisfied: six in c:\\users\\andre\\appdata\\roaming\\python\\python312\\site-packages (from patsy>=0.5.6->statsmodels) (1.16.0)\n",
      "Downloading statsmodels-0.14.2-cp312-cp312-win_amd64.whl (9.8 MB)\n",
      "   ---------------------------------------- 0.0/9.8 MB ? eta -:--:--\n",
      "   ----- ---------------------------------- 1.3/9.8 MB 6.7 MB/s eta 0:00:02\n",
      "   ----------------- ---------------------- 4.2/9.8 MB 10.5 MB/s eta 0:00:01\n",
      "   -------------------------- ------------- 6.6/9.8 MB 10.6 MB/s eta 0:00:01\n",
      "   ------------------------------------ --- 8.9/9.8 MB 10.9 MB/s eta 0:00:01\n",
      "   ---------------------------------------- 9.8/9.8 MB 10.0 MB/s eta 0:00:00\n",
      "Downloading patsy-0.5.6-py2.py3-none-any.whl (233 kB)\n",
      "Downloading scipy-1.14.1-cp312-cp312-win_amd64.whl (44.5 MB)\n",
      "   ---------------------------------------- 0.0/44.5 MB ? eta -:--:--\n",
      "   -- ------------------------------------- 2.6/44.5 MB 11.6 MB/s eta 0:00:04\n",
      "   ---- ----------------------------------- 5.2/44.5 MB 11.4 MB/s eta 0:00:04\n",
      "   ------ --------------------------------- 7.6/44.5 MB 11.7 MB/s eta 0:00:04\n",
      "   --------- ------------------------------ 10.2/44.5 MB 11.6 MB/s eta 0:00:03\n",
      "   ----------- ---------------------------- 12.8/44.5 MB 11.7 MB/s eta 0:00:03\n",
      "   ------------- -------------------------- 15.5/44.5 MB 11.7 MB/s eta 0:00:03\n",
      "   ---------------- ----------------------- 18.1/44.5 MB 11.8 MB/s eta 0:00:03\n",
      "   ------------------ --------------------- 20.7/44.5 MB 11.7 MB/s eta 0:00:03\n",
      "   -------------------- ------------------- 23.3/44.5 MB 11.7 MB/s eta 0:00:02\n",
      "   ----------------------- ---------------- 26.0/44.5 MB 11.7 MB/s eta 0:00:02\n",
      "   ------------------------- -------------- 28.3/44.5 MB 11.8 MB/s eta 0:00:02\n",
      "   ---------------------------- ----------- 31.2/44.5 MB 11.8 MB/s eta 0:00:02\n",
      "   ------------------------------ --------- 33.6/44.5 MB 11.8 MB/s eta 0:00:01\n",
      "   -------------------------------- ------- 36.7/44.5 MB 11.8 MB/s eta 0:00:01\n",
      "   ----------------------------------- ---- 39.8/44.5 MB 11.8 MB/s eta 0:00:01\n",
      "   ------------------------------------- -- 42.2/44.5 MB 11.8 MB/s eta 0:00:01\n",
      "   ---------------------------------------  44.3/44.5 MB 11.8 MB/s eta 0:00:01\n",
      "   ---------------------------------------  44.3/44.5 MB 11.8 MB/s eta 0:00:01\n",
      "   ---------------------------------------- 44.5/44.5 MB 10.6 MB/s eta 0:00:00\n",
      "Installing collected packages: scipy, patsy, statsmodels\n",
      "Successfully installed patsy-0.5.6 scipy-1.14.1 statsmodels-0.14.2\n"
     ]
    }
   ],
   "source": [
    "!pip install statsmodels"
   ]
  },
  {
   "cell_type": "code",
   "execution_count": 16,
   "metadata": {},
   "outputs": [],
   "source": [
    "import numpy as np\n",
    "from statsmodels.tsa.stattools import adfuller"
   ]
  },
  {
   "cell_type": "code",
   "execution_count": 17,
   "metadata": {},
   "outputs": [],
   "source": [
    "cuadro = df_1[[\"Producto bruto interno por tipo de gasto (millones S/ 2007) - Demanda Interna\"]].copy()"
   ]
  },
  {
   "cell_type": "code",
   "execution_count": 18,
   "metadata": {},
   "outputs": [],
   "source": [
    "cuadro.rename(columns={'Producto bruto interno por tipo de gasto (millones S/ 2007) - Demanda Interna': 'PBI_Demanda_Interna'}, inplace=True)"
   ]
  },
  {
   "cell_type": "code",
   "execution_count": 19,
   "metadata": {},
   "outputs": [
    {
     "data": {
      "text/html": [
       "<div>\n",
       "<style scoped>\n",
       "    .dataframe tbody tr th:only-of-type {\n",
       "        vertical-align: middle;\n",
       "    }\n",
       "\n",
       "    .dataframe tbody tr th {\n",
       "        vertical-align: top;\n",
       "    }\n",
       "\n",
       "    .dataframe thead th {\n",
       "        text-align: right;\n",
       "    }\n",
       "</style>\n",
       "<table border=\"1\" class=\"dataframe\">\n",
       "  <thead>\n",
       "    <tr style=\"text-align: right;\">\n",
       "      <th></th>\n",
       "      <th>PBI_Demanda_Interna</th>\n",
       "    </tr>\n",
       "    <tr>\n",
       "      <th>Fecha</th>\n",
       "      <th></th>\n",
       "    </tr>\n",
       "  </thead>\n",
       "  <tbody>\n",
       "    <tr>\n",
       "      <th>2002-03-01</th>\n",
       "      <td>50591.247260</td>\n",
       "    </tr>\n",
       "    <tr>\n",
       "      <th>2002-06-01</th>\n",
       "      <td>56029.467831</td>\n",
       "    </tr>\n",
       "    <tr>\n",
       "      <th>2002-09-01</th>\n",
       "      <td>51402.886732</td>\n",
       "    </tr>\n",
       "    <tr>\n",
       "      <th>2002-12-01</th>\n",
       "      <td>54403.921935</td>\n",
       "    </tr>\n",
       "    <tr>\n",
       "      <th>2003-03-01</th>\n",
       "      <td>53147.807578</td>\n",
       "    </tr>\n",
       "  </tbody>\n",
       "</table>\n",
       "</div>"
      ],
      "text/plain": [
       "            PBI_Demanda_Interna\n",
       "Fecha                          \n",
       "2002-03-01         50591.247260\n",
       "2002-06-01         56029.467831\n",
       "2002-09-01         51402.886732\n",
       "2002-12-01         54403.921935\n",
       "2003-03-01         53147.807578"
      ]
     },
     "execution_count": 19,
     "metadata": {},
     "output_type": "execute_result"
    }
   ],
   "source": [
    "cuadro.head()"
   ]
  },
  {
   "cell_type": "code",
   "execution_count": 20,
   "metadata": {},
   "outputs": [
    {
     "data": {
      "text/html": [
       "<div>\n",
       "<style scoped>\n",
       "    .dataframe tbody tr th:only-of-type {\n",
       "        vertical-align: middle;\n",
       "    }\n",
       "\n",
       "    .dataframe tbody tr th {\n",
       "        vertical-align: top;\n",
       "    }\n",
       "\n",
       "    .dataframe thead th {\n",
       "        text-align: right;\n",
       "    }\n",
       "</style>\n",
       "<table border=\"1\" class=\"dataframe\">\n",
       "  <thead>\n",
       "    <tr style=\"text-align: right;\">\n",
       "      <th></th>\n",
       "      <th>PBI_Demanda_Interna</th>\n",
       "      <th>log</th>\n",
       "    </tr>\n",
       "    <tr>\n",
       "      <th>Fecha</th>\n",
       "      <th></th>\n",
       "      <th></th>\n",
       "    </tr>\n",
       "  </thead>\n",
       "  <tbody>\n",
       "    <tr>\n",
       "      <th>2002-03-01</th>\n",
       "      <td>50591.247260</td>\n",
       "      <td>10.831534</td>\n",
       "    </tr>\n",
       "    <tr>\n",
       "      <th>2002-06-01</th>\n",
       "      <td>56029.467831</td>\n",
       "      <td>10.933633</td>\n",
       "    </tr>\n",
       "    <tr>\n",
       "      <th>2002-09-01</th>\n",
       "      <td>51402.886732</td>\n",
       "      <td>10.847450</td>\n",
       "    </tr>\n",
       "    <tr>\n",
       "      <th>2002-12-01</th>\n",
       "      <td>54403.921935</td>\n",
       "      <td>10.904192</td>\n",
       "    </tr>\n",
       "    <tr>\n",
       "      <th>2003-03-01</th>\n",
       "      <td>53147.807578</td>\n",
       "      <td>10.880832</td>\n",
       "    </tr>\n",
       "  </tbody>\n",
       "</table>\n",
       "</div>"
      ],
      "text/plain": [
       "            PBI_Demanda_Interna        log\n",
       "Fecha                                     \n",
       "2002-03-01         50591.247260  10.831534\n",
       "2002-06-01         56029.467831  10.933633\n",
       "2002-09-01         51402.886732  10.847450\n",
       "2002-12-01         54403.921935  10.904192\n",
       "2003-03-01         53147.807578  10.880832"
      ]
     },
     "execution_count": 20,
     "metadata": {},
     "output_type": "execute_result"
    }
   ],
   "source": [
    "cuadro['log'] = np.log(cuadro['PBI_Demanda_Interna'])\n",
    "cuadro.head()"
   ]
  },
  {
   "cell_type": "code",
   "execution_count": 21,
   "metadata": {},
   "outputs": [],
   "source": [
    "cuadro['diff'] = cuadro.PBI_Demanda_Interna.diff()"
   ]
  },
  {
   "cell_type": "code",
   "execution_count": 22,
   "metadata": {},
   "outputs": [
    {
     "data": {
      "text/html": [
       "<div>\n",
       "<style scoped>\n",
       "    .dataframe tbody tr th:only-of-type {\n",
       "        vertical-align: middle;\n",
       "    }\n",
       "\n",
       "    .dataframe tbody tr th {\n",
       "        vertical-align: top;\n",
       "    }\n",
       "\n",
       "    .dataframe thead th {\n",
       "        text-align: right;\n",
       "    }\n",
       "</style>\n",
       "<table border=\"1\" class=\"dataframe\">\n",
       "  <thead>\n",
       "    <tr style=\"text-align: right;\">\n",
       "      <th></th>\n",
       "      <th>PBI_Demanda_Interna</th>\n",
       "      <th>log</th>\n",
       "      <th>diff</th>\n",
       "    </tr>\n",
       "    <tr>\n",
       "      <th>Fecha</th>\n",
       "      <th></th>\n",
       "      <th></th>\n",
       "      <th></th>\n",
       "    </tr>\n",
       "  </thead>\n",
       "  <tbody>\n",
       "    <tr>\n",
       "      <th>2002-03-01</th>\n",
       "      <td>50591.247260</td>\n",
       "      <td>10.831534</td>\n",
       "      <td>NaN</td>\n",
       "    </tr>\n",
       "    <tr>\n",
       "      <th>2002-06-01</th>\n",
       "      <td>56029.467831</td>\n",
       "      <td>10.933633</td>\n",
       "      <td>5438.220571</td>\n",
       "    </tr>\n",
       "    <tr>\n",
       "      <th>2002-09-01</th>\n",
       "      <td>51402.886732</td>\n",
       "      <td>10.847450</td>\n",
       "      <td>-4626.581099</td>\n",
       "    </tr>\n",
       "    <tr>\n",
       "      <th>2002-12-01</th>\n",
       "      <td>54403.921935</td>\n",
       "      <td>10.904192</td>\n",
       "      <td>3001.035203</td>\n",
       "    </tr>\n",
       "    <tr>\n",
       "      <th>2003-03-01</th>\n",
       "      <td>53147.807578</td>\n",
       "      <td>10.880832</td>\n",
       "      <td>-1256.114357</td>\n",
       "    </tr>\n",
       "  </tbody>\n",
       "</table>\n",
       "</div>"
      ],
      "text/plain": [
       "            PBI_Demanda_Interna        log         diff\n",
       "Fecha                                                  \n",
       "2002-03-01         50591.247260  10.831534          NaN\n",
       "2002-06-01         56029.467831  10.933633  5438.220571\n",
       "2002-09-01         51402.886732  10.847450 -4626.581099\n",
       "2002-12-01         54403.921935  10.904192  3001.035203\n",
       "2003-03-01         53147.807578  10.880832 -1256.114357"
      ]
     },
     "execution_count": 22,
     "metadata": {},
     "output_type": "execute_result"
    }
   ],
   "source": [
    "cuadro[[\"PBI_Demanda_Interna\", \"log\", \"diff\"]].head()"
   ]
  },
  {
   "cell_type": "code",
   "execution_count": 23,
   "metadata": {},
   "outputs": [
    {
     "data": {
      "text/html": [
       "<div>\n",
       "<style scoped>\n",
       "    .dataframe tbody tr th:only-of-type {\n",
       "        vertical-align: middle;\n",
       "    }\n",
       "\n",
       "    .dataframe tbody tr th {\n",
       "        vertical-align: top;\n",
       "    }\n",
       "\n",
       "    .dataframe thead th {\n",
       "        text-align: right;\n",
       "    }\n",
       "</style>\n",
       "<table border=\"1\" class=\"dataframe\">\n",
       "  <thead>\n",
       "    <tr style=\"text-align: right;\">\n",
       "      <th></th>\n",
       "      <th>PBI_Demanda_Interna</th>\n",
       "      <th>log</th>\n",
       "      <th>diff</th>\n",
       "    </tr>\n",
       "    <tr>\n",
       "      <th>Fecha</th>\n",
       "      <th></th>\n",
       "      <th></th>\n",
       "      <th></th>\n",
       "    </tr>\n",
       "  </thead>\n",
       "  <tbody>\n",
       "    <tr>\n",
       "      <th>2002-03-01</th>\n",
       "      <td>50591.247260</td>\n",
       "      <td>10.831534</td>\n",
       "      <td>0.000000</td>\n",
       "    </tr>\n",
       "    <tr>\n",
       "      <th>2002-06-01</th>\n",
       "      <td>56029.467831</td>\n",
       "      <td>10.933633</td>\n",
       "      <td>5438.220571</td>\n",
       "    </tr>\n",
       "    <tr>\n",
       "      <th>2002-09-01</th>\n",
       "      <td>51402.886732</td>\n",
       "      <td>10.847450</td>\n",
       "      <td>-4626.581099</td>\n",
       "    </tr>\n",
       "    <tr>\n",
       "      <th>2002-12-01</th>\n",
       "      <td>54403.921935</td>\n",
       "      <td>10.904192</td>\n",
       "      <td>3001.035203</td>\n",
       "    </tr>\n",
       "    <tr>\n",
       "      <th>2003-03-01</th>\n",
       "      <td>53147.807578</td>\n",
       "      <td>10.880832</td>\n",
       "      <td>-1256.114357</td>\n",
       "    </tr>\n",
       "  </tbody>\n",
       "</table>\n",
       "</div>"
      ],
      "text/plain": [
       "            PBI_Demanda_Interna        log         diff\n",
       "Fecha                                                  \n",
       "2002-03-01         50591.247260  10.831534     0.000000\n",
       "2002-06-01         56029.467831  10.933633  5438.220571\n",
       "2002-09-01         51402.886732  10.847450 -4626.581099\n",
       "2002-12-01         54403.921935  10.904192  3001.035203\n",
       "2003-03-01         53147.807578  10.880832 -1256.114357"
      ]
     },
     "execution_count": 23,
     "metadata": {},
     "output_type": "execute_result"
    }
   ],
   "source": [
    "cuadro.fillna(0, inplace=True)\n",
    "cuadro.head()"
   ]
  },
  {
   "cell_type": "markdown",
   "metadata": {},
   "source": [
    "PREGUNTA IV."
   ]
  },
  {
   "cell_type": "code",
   "execution_count": 24,
   "metadata": {},
   "outputs": [],
   "source": [
    "result_1 = adfuller(cuadro['PBI_Demanda_Interna'])"
   ]
  },
  {
   "cell_type": "code",
   "execution_count": 25,
   "metadata": {},
   "outputs": [
    {
     "name": "stdout",
     "output_type": "stream",
     "text": [
      "(np.float64(-1.124565065987308), np.float64(0.7051768969733276), 8, 60, {'1%': np.float64(-3.5443688564814813), '5%': np.float64(-2.9110731481481484), '10%': np.float64(-2.5931902777777776)}, np.float64(1046.71855824299))\n"
     ]
    }
   ],
   "source": [
    "print(result_1)"
   ]
  },
  {
   "cell_type": "code",
   "execution_count": 26,
   "metadata": {},
   "outputs": [],
   "source": [
    "result_2 = adfuller(cuadro['log'])"
   ]
  },
  {
   "cell_type": "code",
   "execution_count": 27,
   "metadata": {},
   "outputs": [
    {
     "name": "stdout",
     "output_type": "stream",
     "text": [
      "(np.float64(-1.5590985247571847), np.float64(0.504100288171742), 6, 62, {'1%': np.float64(-3.540522678829176), '5%': np.float64(-2.9094272025108254), '10%': np.float64(-2.5923136524453696)}, np.float64(-249.50459753880358))\n"
     ]
    }
   ],
   "source": [
    "print(result_2)"
   ]
  },
  {
   "cell_type": "code",
   "execution_count": 28,
   "metadata": {},
   "outputs": [],
   "source": [
    "result_3 = adfuller(cuadro['diff'])"
   ]
  },
  {
   "cell_type": "code",
   "execution_count": 29,
   "metadata": {},
   "outputs": [
    {
     "name": "stdout",
     "output_type": "stream",
     "text": [
      "(np.float64(-2.464967171290239), np.float64(0.1242324918312841), 7, 61, {'1%': np.float64(-3.542412746661615), '5%': np.float64(-2.910236235808284), '10%': np.float64(-2.5927445767266866)}, np.float64(1047.4475760185471))\n"
     ]
    }
   ],
   "source": [
    "print(result_3)"
   ]
  },
  {
   "cell_type": "markdown",
   "metadata": {},
   "source": [
    "PREGUNTA V."
   ]
  },
  {
   "cell_type": "code",
   "execution_count": 30,
   "metadata": {},
   "outputs": [
    {
     "name": "stdout",
     "output_type": "stream",
     "text": [
      "Collecting yfinance\n",
      "  Downloading yfinance-0.2.43-py2.py3-none-any.whl.metadata (11 kB)\n",
      "Requirement already satisfied: pandas>=1.3.0 in c:\\users\\andre\\appdata\\local\\programs\\python\\python312\\lib\\site-packages (from yfinance) (2.2.2)\n",
      "Requirement already satisfied: numpy>=1.16.5 in c:\\users\\andre\\appdata\\local\\programs\\python\\python312\\lib\\site-packages (from yfinance) (2.1.1)\n",
      "Requirement already satisfied: requests>=2.31 in c:\\users\\andre\\appdata\\local\\programs\\python\\python312\\lib\\site-packages (from yfinance) (2.32.3)\n",
      "Collecting multitasking>=0.0.7 (from yfinance)\n",
      "  Downloading multitasking-0.0.11-py3-none-any.whl.metadata (5.5 kB)\n",
      "Requirement already satisfied: lxml>=4.9.1 in c:\\users\\andre\\appdata\\local\\programs\\python\\python312\\lib\\site-packages (from yfinance) (5.3.0)\n",
      "Requirement already satisfied: platformdirs>=2.0.0 in c:\\users\\andre\\appdata\\roaming\\python\\python312\\site-packages (from yfinance) (4.2.2)\n",
      "Requirement already satisfied: pytz>=2022.5 in c:\\users\\andre\\appdata\\local\\programs\\python\\python312\\lib\\site-packages (from yfinance) (2024.1)\n",
      "Collecting frozendict>=2.3.4 (from yfinance)\n",
      "  Downloading frozendict-2.4.4-py312-none-any.whl.metadata (23 kB)\n",
      "Collecting peewee>=3.16.2 (from yfinance)\n",
      "  Downloading peewee-3.17.6.tar.gz (3.0 MB)\n",
      "     ---------------------------------------- 0.0/3.0 MB ? eta -:--:--\n",
      "     ---------- ----------------------------- 0.8/3.0 MB 6.7 MB/s eta 0:00:01\n",
      "     ------------------------------- -------- 2.4/3.0 MB 6.7 MB/s eta 0:00:01\n",
      "     ---------------------------------------- 3.0/3.0 MB 6.6 MB/s eta 0:00:00\n",
      "  Installing build dependencies: started\n",
      "  Installing build dependencies: finished with status 'done'\n",
      "  Getting requirements to build wheel: started\n",
      "  Getting requirements to build wheel: finished with status 'done'\n",
      "  Preparing metadata (pyproject.toml): started\n",
      "  Preparing metadata (pyproject.toml): finished with status 'done'\n",
      "Collecting beautifulsoup4>=4.11.1 (from yfinance)\n",
      "  Downloading beautifulsoup4-4.12.3-py3-none-any.whl.metadata (3.8 kB)\n",
      "Collecting html5lib>=1.1 (from yfinance)\n",
      "  Downloading html5lib-1.1-py2.py3-none-any.whl.metadata (16 kB)\n",
      "Collecting soupsieve>1.2 (from beautifulsoup4>=4.11.1->yfinance)\n",
      "  Downloading soupsieve-2.6-py3-none-any.whl.metadata (4.6 kB)\n",
      "Requirement already satisfied: six>=1.9 in c:\\users\\andre\\appdata\\roaming\\python\\python312\\site-packages (from html5lib>=1.1->yfinance) (1.16.0)\n",
      "Collecting webencodings (from html5lib>=1.1->yfinance)\n",
      "  Downloading webencodings-0.5.1-py2.py3-none-any.whl.metadata (2.1 kB)\n",
      "Requirement already satisfied: python-dateutil>=2.8.2 in c:\\users\\andre\\appdata\\roaming\\python\\python312\\site-packages (from pandas>=1.3.0->yfinance) (2.9.0.post0)\n",
      "Requirement already satisfied: tzdata>=2022.7 in c:\\users\\andre\\appdata\\local\\programs\\python\\python312\\lib\\site-packages (from pandas>=1.3.0->yfinance) (2024.1)\n",
      "Requirement already satisfied: charset-normalizer<4,>=2 in c:\\users\\andre\\appdata\\local\\programs\\python\\python312\\lib\\site-packages (from requests>=2.31->yfinance) (3.3.2)\n",
      "Requirement already satisfied: idna<4,>=2.5 in c:\\users\\andre\\appdata\\local\\programs\\python\\python312\\lib\\site-packages (from requests>=2.31->yfinance) (3.8)\n",
      "Requirement already satisfied: urllib3<3,>=1.21.1 in c:\\users\\andre\\appdata\\local\\programs\\python\\python312\\lib\\site-packages (from requests>=2.31->yfinance) (2.2.2)\n",
      "Requirement already satisfied: certifi>=2017.4.17 in c:\\users\\andre\\appdata\\local\\programs\\python\\python312\\lib\\site-packages (from requests>=2.31->yfinance) (2024.8.30)\n",
      "Downloading yfinance-0.2.43-py2.py3-none-any.whl (84 kB)\n",
      "Downloading beautifulsoup4-4.12.3-py3-none-any.whl (147 kB)\n",
      "Downloading frozendict-2.4.4-py312-none-any.whl (16 kB)\n",
      "Downloading html5lib-1.1-py2.py3-none-any.whl (112 kB)\n",
      "Downloading multitasking-0.0.11-py3-none-any.whl (8.5 kB)\n",
      "Downloading soupsieve-2.6-py3-none-any.whl (36 kB)\n",
      "Downloading webencodings-0.5.1-py2.py3-none-any.whl (11 kB)\n",
      "Building wheels for collected packages: peewee\n",
      "  Building wheel for peewee (pyproject.toml): started\n",
      "  Building wheel for peewee (pyproject.toml): finished with status 'done'\n",
      "  Created wheel for peewee: filename=peewee-3.17.6-py3-none-any.whl size=138939 sha256=8e3d9335a68ba9516ceef0fd4018dba520b9ffd0cff9865f5d2bc38bcc5e848d\n",
      "  Stored in directory: c:\\users\\andre\\appdata\\local\\pip\\cache\\wheels\\a6\\5e\\0f\\8319805c4115320e0d3e8fb5799b114a2e4c4a3d6c7e523b06\n",
      "Successfully built peewee\n",
      "Installing collected packages: webencodings, peewee, multitasking, soupsieve, html5lib, frozendict, beautifulsoup4, yfinance\n",
      "Successfully installed beautifulsoup4-4.12.3 frozendict-2.4.4 html5lib-1.1 multitasking-0.0.11 peewee-3.17.6 soupsieve-2.6 webencodings-0.5.1 yfinance-0.2.43\n"
     ]
    }
   ],
   "source": [
    "!pip install yfinance"
   ]
  },
  {
   "cell_type": "code",
   "execution_count": 31,
   "metadata": {},
   "outputs": [
    {
     "name": "stdout",
     "output_type": "stream",
     "text": [
      "Collecting matplotlib\n",
      "  Downloading matplotlib-3.9.2-cp312-cp312-win_amd64.whl.metadata (11 kB)\n",
      "Collecting contourpy>=1.0.1 (from matplotlib)\n",
      "  Downloading contourpy-1.3.0-cp312-cp312-win_amd64.whl.metadata (5.4 kB)\n",
      "Collecting cycler>=0.10 (from matplotlib)\n",
      "  Downloading cycler-0.12.1-py3-none-any.whl.metadata (3.8 kB)\n",
      "Collecting fonttools>=4.22.0 (from matplotlib)\n",
      "  Downloading fonttools-4.53.1-cp312-cp312-win_amd64.whl.metadata (165 kB)\n",
      "Collecting kiwisolver>=1.3.1 (from matplotlib)\n",
      "  Downloading kiwisolver-1.4.6-cp312-cp312-win_amd64.whl.metadata (6.4 kB)\n",
      "Requirement already satisfied: numpy>=1.23 in c:\\users\\andre\\appdata\\local\\programs\\python\\python312\\lib\\site-packages (from matplotlib) (2.1.1)\n",
      "Requirement already satisfied: packaging>=20.0 in c:\\users\\andre\\appdata\\roaming\\python\\python312\\site-packages (from matplotlib) (24.1)\n",
      "Collecting pillow>=8 (from matplotlib)\n",
      "  Downloading pillow-10.4.0-cp312-cp312-win_amd64.whl.metadata (9.3 kB)\n",
      "Collecting pyparsing>=2.3.1 (from matplotlib)\n",
      "  Downloading pyparsing-3.1.4-py3-none-any.whl.metadata (5.1 kB)\n",
      "Requirement already satisfied: python-dateutil>=2.7 in c:\\users\\andre\\appdata\\roaming\\python\\python312\\site-packages (from matplotlib) (2.9.0.post0)\n",
      "Requirement already satisfied: six>=1.5 in c:\\users\\andre\\appdata\\roaming\\python\\python312\\site-packages (from python-dateutil>=2.7->matplotlib) (1.16.0)\n",
      "Downloading matplotlib-3.9.2-cp312-cp312-win_amd64.whl (7.8 MB)\n",
      "   ---------------------------------------- 0.0/7.8 MB ? eta -:--:--\n",
      "   ------------ --------------------------- 2.4/7.8 MB 11.2 MB/s eta 0:00:01\n",
      "   ------------------------- -------------- 5.0/7.8 MB 11.6 MB/s eta 0:00:01\n",
      "   -------------------------------------- - 7.6/7.8 MB 11.7 MB/s eta 0:00:01\n",
      "   -------------------------------------- - 7.6/7.8 MB 11.7 MB/s eta 0:00:01\n",
      "   -------------------------------------- - 7.6/7.8 MB 11.7 MB/s eta 0:00:01\n",
      "   ---------------------------------------- 7.8/7.8 MB 7.0 MB/s eta 0:00:00\n",
      "Downloading contourpy-1.3.0-cp312-cp312-win_amd64.whl (218 kB)\n",
      "Downloading cycler-0.12.1-py3-none-any.whl (8.3 kB)\n",
      "Downloading fonttools-4.53.1-cp312-cp312-win_amd64.whl (2.2 MB)\n",
      "   ---------------------------------------- 0.0/2.2 MB ? eta -:--:--\n",
      "   -------------------------------------- - 2.1/2.2 MB 13.0 MB/s eta 0:00:01\n",
      "   ---------------------------------------- 2.2/2.2 MB 6.2 MB/s eta 0:00:00\n",
      "Downloading kiwisolver-1.4.6-cp312-cp312-win_amd64.whl (55 kB)\n",
      "Downloading pillow-10.4.0-cp312-cp312-win_amd64.whl (2.6 MB)\n",
      "   ---------------------------------------- 0.0/2.6 MB ? eta -:--:--\n",
      "   ------------------------------------ --- 2.4/2.6 MB 12.3 MB/s eta 0:00:01\n",
      "   ---------------------------------------- 2.6/2.6 MB 6.4 MB/s eta 0:00:00\n",
      "Downloading pyparsing-3.1.4-py3-none-any.whl (104 kB)\n",
      "Installing collected packages: pyparsing, pillow, kiwisolver, fonttools, cycler, contourpy, matplotlib\n",
      "Successfully installed contourpy-1.3.0 cycler-0.12.1 fonttools-4.53.1 kiwisolver-1.4.6 matplotlib-3.9.2 pillow-10.4.0 pyparsing-3.1.4\n"
     ]
    }
   ],
   "source": [
    "!pip install matplotlib"
   ]
  },
  {
   "cell_type": "code",
   "execution_count": 32,
   "metadata": {},
   "outputs": [
    {
     "name": "stderr",
     "output_type": "stream",
     "text": [
      "Matplotlib is building the font cache; this may take a moment.\n"
     ]
    }
   ],
   "source": [
    "import warnings\n",
    "warnings.filterwarnings(\"ignore\")\n",
    "import matplotlib.pyplot as plt\n",
    "import requests\n",
    "from scipy import stats\n",
    "import yfinance as yf"
   ]
  },
  {
   "cell_type": "code",
   "execution_count": 33,
   "metadata": {},
   "outputs": [],
   "source": [
    "from statsmodels.graphics import tsaplots"
   ]
  },
  {
   "cell_type": "code",
   "execution_count": 34,
   "metadata": {},
   "outputs": [],
   "source": [
    "cuadro = cuadro[[\"diff\"]]"
   ]
  },
  {
   "cell_type": "code",
   "execution_count": 35,
   "metadata": {},
   "outputs": [
    {
     "data": {
      "image/png": "[encoded data removed]",
      "text/plain": [
       "<Figure size 640x480 with 1 Axes>"
      ]
     },
     "metadata": {},
     "output_type": "display_data"
    }
   ],
   "source": [
    "fig = tsaplots.plot_acf(cuadro, lags = 30)"
   ]
  },
  {
   "cell_type": "code",
   "execution_count": 36,
   "metadata": {},
   "outputs": [
    {
     "data": {
      "image/png": "[encoded data removed]",
      "text/plain": [
       "<Figure size 640x480 with 1 Axes>"
      ]
     },
     "metadata": {},
     "output_type": "display_data"
    }
   ],
   "source": [
    "fig = tsaplots.plot_pacf(cuadro, lags = 30)"
   ]
  },
  {
   "cell_type": "markdown",
   "metadata": {},
   "source": [
    "¿Dirías que la serie se comporta como un AR, un MA o un ARMA?"
   ]
  },
  {
   "cell_type": "markdown",
   "metadata": {},
   "source": [
    "La serie se comporta como un ARMA"
   ]
  },
  {
   "cell_type": "markdown",
   "metadata": {},
   "source": [
    "PREGUNTA VI"
   ]
  },
  {
   "cell_type": "code",
   "execution_count": 37,
   "metadata": {},
   "outputs": [
    {
     "data": {
      "text/html": [
       "<div>\n",
       "<style scoped>\n",
       "    .dataframe tbody tr th:only-of-type {\n",
       "        vertical-align: middle;\n",
       "    }\n",
       "\n",
       "    .dataframe tbody tr th {\n",
       "        vertical-align: top;\n",
       "    }\n",
       "\n",
       "    .dataframe thead th {\n",
       "        text-align: right;\n",
       "    }\n",
       "</style>\n",
       "<table border=\"1\" class=\"dataframe\">\n",
       "  <thead>\n",
       "    <tr style=\"text-align: right;\">\n",
       "      <th></th>\n",
       "      <th>diff</th>\n",
       "    </tr>\n",
       "    <tr>\n",
       "      <th>Fecha</th>\n",
       "      <th></th>\n",
       "    </tr>\n",
       "  </thead>\n",
       "  <tbody>\n",
       "    <tr>\n",
       "      <th>2002-03-01</th>\n",
       "      <td>0.000000</td>\n",
       "    </tr>\n",
       "    <tr>\n",
       "      <th>2002-06-01</th>\n",
       "      <td>5438.220571</td>\n",
       "    </tr>\n",
       "    <tr>\n",
       "      <th>2002-09-01</th>\n",
       "      <td>-4626.581099</td>\n",
       "    </tr>\n",
       "    <tr>\n",
       "      <th>2002-12-01</th>\n",
       "      <td>3001.035203</td>\n",
       "    </tr>\n",
       "    <tr>\n",
       "      <th>2003-03-01</th>\n",
       "      <td>-1256.114357</td>\n",
       "    </tr>\n",
       "  </tbody>\n",
       "</table>\n",
       "</div>"
      ],
      "text/plain": [
       "                   diff\n",
       "Fecha                  \n",
       "2002-03-01     0.000000\n",
       "2002-06-01  5438.220571\n",
       "2002-09-01 -4626.581099\n",
       "2002-12-01  3001.035203\n",
       "2003-03-01 -1256.114357"
      ]
     },
     "execution_count": 37,
     "metadata": {},
     "output_type": "execute_result"
    }
   ],
   "source": [
    "cuadro_1 = cuadro[[\"diff\"]].copy()\n",
    "cuadro_1.head()"
   ]
  },
  {
   "cell_type": "code",
   "execution_count": 38,
   "metadata": {},
   "outputs": [
    {
     "name": "stdout",
     "output_type": "stream",
     "text": [
      "                               SARIMAX Results                                \n",
      "==============================================================================\n",
      "Dep. Variable:                   diff   No. Observations:                   69\n",
      "Model:                 ARIMA(1, 0, 0)   Log Likelihood                -669.102\n",
      "Date:                Tue, 03 Sep 2024   AIC                           1344.204\n",
      "Time:                        20:48:12   BIC                           1350.906\n",
      "Sample:                    03-01-2002   HQIC                          1346.863\n",
      "                         - 03-01-2019                                         \n",
      "Covariance Type:                  opg                                         \n",
      "==============================================================================\n",
      "                 coef    std err          z      P>|z|      [0.025      0.975]\n",
      "------------------------------------------------------------------------------\n",
      "const       1168.6382    312.749      3.737      0.000     555.662    1781.614\n",
      "ar.L1         -0.6964      0.109     -6.391      0.000      -0.910      -0.483\n",
      "sigma2      1.543e+07   3.15e+06      4.897      0.000    9.25e+06    2.16e+07\n",
      "===================================================================================\n",
      "Ljung-Box (L1) (Q):                   0.24   Jarque-Bera (JB):                 3.35\n",
      "Prob(Q):                              0.62   Prob(JB):                         0.19\n",
      "Heteroskedasticity (H):               1.87   Skew:                            -0.52\n",
      "Prob(H) (two-sided):                  0.14   Kurtosis:                         2.73\n",
      "===================================================================================\n",
      "\n",
      "Warnings:\n",
      "[1] Covariance matrix calculated using the outer product of gradients (complex-step).\n",
      "When the true value of phi is 0.9, the estimate of phi is: -0.70\n"
     ]
    }
   ],
   "source": [
    "from statsmodels.tsa.arima.model import ARIMA\n",
    "model = ARIMA(cuadro_1, order=(1, 0, 0))\n",
    "results = model.fit()\n",
    "print(results.summary())\n",
    "print(f\"When the true value of phi is 0.9, the estimate of phi is: {results.params[1]:.2f}\")"
   ]
  },
  {
   "cell_type": "markdown",
   "metadata": {},
   "source": [
    "Dado que el coeficiente del componente autorregresivo de primer orden (ar.L1) es un valor negativo (-0.6964), hay una relación inversa entre el valor pasado con el valor presente. Esto quiere decir que un aumento del valor en t-1 sugiere una disminución del valor en t."
   ]
  },
  {
   "cell_type": "markdown",
   "metadata": {},
   "source": [
    "PREGUNTA VII."
   ]
  },
  {
   "cell_type": "code",
   "execution_count": 39,
   "metadata": {},
   "outputs": [
    {
     "name": "stdout",
     "output_type": "stream",
     "text": [
      "                               SARIMAX Results                                \n",
      "==============================================================================\n",
      "Dep. Variable:                   diff   No. Observations:                   69\n",
      "Model:                 ARIMA(4, 0, 0)   Log Likelihood                -634.208\n",
      "Date:                Tue, 03 Sep 2024   AIC                           1280.416\n",
      "Time:                        20:48:15   BIC                           1293.820\n",
      "Sample:                    03-01-2002   HQIC                          1285.734\n",
      "                         - 03-01-2019                                         \n",
      "Covariance Type:                  opg                                         \n",
      "==============================================================================\n",
      "                 coef    std err          z      P>|z|      [0.025      0.975]\n",
      "------------------------------------------------------------------------------\n",
      "const       1085.6642    367.858      2.951      0.003     364.675    1806.653\n",
      "ar.L1         -0.1446      0.106     -1.368      0.171      -0.352       0.063\n",
      "ar.L2         -0.0979      0.116     -0.843      0.399      -0.326       0.130\n",
      "ar.L3         -0.2696      0.100     -2.687      0.007      -0.466      -0.073\n",
      "ar.L4          0.6556      0.101      6.489      0.000       0.458       0.854\n",
      "sigma2      5.434e+06      0.037   1.46e+08      0.000    5.43e+06    5.43e+06\n",
      "===================================================================================\n",
      "Ljung-Box (L1) (Q):                   2.90   Jarque-Bera (JB):                 2.94\n",
      "Prob(Q):                              0.09   Prob(JB):                         0.23\n",
      "Heteroskedasticity (H):               0.92   Skew:                             0.17\n",
      "Prob(H) (two-sided):                  0.85   Kurtosis:                         3.96\n",
      "===================================================================================\n",
      "\n",
      "Warnings:\n",
      "[1] Covariance matrix calculated using the outer product of gradients (complex-step).\n",
      "[2] Covariance matrix is singular or near-singular, with condition number 1.97e+23. Standard errors may be unstable.\n",
      "When the true value of phi is 0.9, the estimate of phi is: -0.14\n"
     ]
    }
   ],
   "source": [
    "from statsmodels.tsa.arima.model import ARIMA\n",
    "model = ARIMA(cuadro_1, order=(4, 0, 0))\n",
    "results = model.fit()\n",
    "print(results.summary())\n",
    "print(f\"When the true value of phi is 0.9, the estimate of phi is: {results.params[1]:.2f}\")"
   ]
  },
  {
   "cell_type": "markdown",
   "metadata": {},
   "source": [
    "PREGUNTA VIII."
   ]
  },
  {
   "cell_type": "code",
   "execution_count": 69,
   "metadata": {},
   "outputs": [
    {
     "data": {
      "image/png": "[encoded data removed]",
      "text/plain": [
       "<Figure size 640x480 with 1 Axes>"
      ]
     },
     "metadata": {},
     "output_type": "display_data"
    }
   ],
   "source": [
    "from statsmodels.tsa.arima.model import ARIMA\n",
    "from statsmodels.graphics.tsaplots import plot_predict\n",
    "model = ARIMA(cuadro_1, order=(4,0,0))\n",
    "results = model.fit()\n",
    "fig, ax = plt.subplots()\n",
    "cuadro_1.loc['2011':,].plot(ax=ax,)\n",
    "plot_predict(results, start='2017', end='2019', ax=ax)\n",
    "plt.show()"
   ]
  }
 ],
 "metadata": {
  "kernelspec": {
   "display_name": "base",
   "language": "python",
   "name": "python3"
  },
  "language_info": {
   "codemirror_mode": {
    "name": "ipython",
    "version": 3
   },
   "file_extension": ".py",
   "mimetype": "text/x-python",
   "name": "python",
   "nbconvert_exporter": "python",
   "pygments_lexer": "ipython3",
   "version": "3.12.5"
  }
 },
 "nbformat": 4,
 "nbformat_minor": 2
}
